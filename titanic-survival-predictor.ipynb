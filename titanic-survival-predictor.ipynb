{
 "cells": [
  {
   "cell_type": "markdown",
   "id": "8f9f4ea1",
   "metadata": {
    "papermill": {
     "duration": 0.014312,
     "end_time": "2024-08-02T21:24:47.623476",
     "exception": false,
     "start_time": "2024-08-02T21:24:47.609164",
     "status": "completed"
    },
    "tags": []
   },
   "source": [
    "# Acknowledgment"
   ]
  },
  {
   "cell_type": "markdown",
   "id": "d20d0c62",
   "metadata": {
    "papermill": {
     "duration": 0.013469,
     "end_time": "2024-08-02T21:24:47.651040",
     "exception": false,
     "start_time": "2024-08-02T21:24:47.637571",
     "status": "completed"
    },
    "tags": []
   },
   "source": [
    "This is my first official submission to a Kaggle competition. I want to express my gratitude to Murilo Gustineli for his detailed Titanic Classification Notebook on GitHub. You can view his notebook at this link: https://github.com/murilogustineli/Titanic-Classification."
   ]
  },
  {
   "cell_type": "markdown",
   "id": "3e36a2de",
   "metadata": {
    "papermill": {
     "duration": 0.013439,
     "end_time": "2024-08-02T21:24:47.678260",
     "exception": false,
     "start_time": "2024-08-02T21:24:47.664821",
     "status": "completed"
    },
    "tags": []
   },
   "source": [
    "# Import Libraries"
   ]
  },
  {
   "cell_type": "code",
   "execution_count": 1,
   "id": "f3b69daf",
   "metadata": {
    "execution": {
     "iopub.execute_input": "2024-08-02T21:24:47.708501Z",
     "iopub.status.busy": "2024-08-02T21:24:47.708083Z",
     "iopub.status.idle": "2024-08-02T21:24:51.167075Z",
     "shell.execute_reply": "2024-08-02T21:24:51.165932Z"
    },
    "papermill": {
     "duration": 3.476552,
     "end_time": "2024-08-02T21:24:51.169520",
     "exception": false,
     "start_time": "2024-08-02T21:24:47.692968",
     "status": "completed"
    },
    "tags": []
   },
   "outputs": [
    {
     "name": "stdout",
     "output_type": "stream",
     "text": [
      "[nltk_data] Downloading package punkt to /usr/share/nltk_data...\n",
      "[nltk_data]   Package punkt is already up-to-date!\n"
     ]
    }
   ],
   "source": [
    "# For data manipulation and analysis\n",
    "import pandas as pd\n",
    "\n",
    "# For numerical operations\n",
    "import numpy as np\n",
    "\n",
    "# For creating visualizations\n",
    "import matplotlib.pyplot as plt\n",
    "import seaborn as sns\n",
    "\n",
    "# For regular expressions\n",
    "import re\n",
    "\n",
    "# Suppress all warnings\n",
    "import warnings\n",
    "warnings.filterwarnings(\"ignore\")\n",
    "\n",
    "# Import NLTK and functions for tokenizations and n-grams\n",
    "import nltk\n",
    "nltk.download(\"punkt\")\n",
    "from nltk.util import ngrams\n",
    "from nltk.corpus import names\n",
    "from nltk.tokenize import word_tokenize"
   ]
  },
  {
   "cell_type": "markdown",
   "id": "be934da5",
   "metadata": {
    "papermill": {
     "duration": 0.013852,
     "end_time": "2024-08-02T21:24:51.197756",
     "exception": false,
     "start_time": "2024-08-02T21:24:51.183904",
     "status": "completed"
    },
    "tags": []
   },
   "source": [
    "# Import Data"
   ]
  },
  {
   "cell_type": "code",
   "execution_count": 2,
   "id": "c6e51f70",
   "metadata": {
    "execution": {
     "iopub.execute_input": "2024-08-02T21:24:51.228033Z",
     "iopub.status.busy": "2024-08-02T21:24:51.227492Z",
     "iopub.status.idle": "2024-08-02T21:24:51.262880Z",
     "shell.execute_reply": "2024-08-02T21:24:51.261730Z"
    },
    "papermill": {
     "duration": 0.053652,
     "end_time": "2024-08-02T21:24:51.265562",
     "exception": false,
     "start_time": "2024-08-02T21:24:51.211910",
     "status": "completed"
    },
    "tags": []
   },
   "outputs": [],
   "source": [
    "# Import titanic train file\n",
    "train_df = pd.read_csv(\"/kaggle/input/titanic/train.csv\")\n",
    "\n",
    "# Import titanic test file\n",
    "test_df = pd.read_csv(\"/kaggle/input/titanic/test.csv\")\n",
    "\n",
    "# Import gender submission file\n",
    "gender_submission = pd.read_csv(\"/kaggle/input/titanic/gender_submission.csv\")"
   ]
  },
  {
   "cell_type": "markdown",
   "id": "ef4124d2",
   "metadata": {
    "papermill": {
     "duration": 0.013853,
     "end_time": "2024-08-02T21:24:51.293746",
     "exception": false,
     "start_time": "2024-08-02T21:24:51.279893",
     "status": "completed"
    },
    "tags": []
   },
   "source": [
    "# Read Data\n",
    "In this section, I reviewed data from three dataframes to confirm the columns, check for any missing values, and analyze their statistics.\n",
    "\n",
    "The analysis revealed missing values in the \"Age\", \"Cabin\", \"Fare\", and \"Embarked\" columns across train and test dataframes.\n",
    "\n",
    "Additionally, \"test_df\" and \"gender_submission\" were merged using the \"PassengerId\" column as a reference for testing purposes."
   ]
  },
  {
   "cell_type": "code",
   "execution_count": 3,
   "id": "0bb036ac",
   "metadata": {
    "execution": {
     "iopub.execute_input": "2024-08-02T21:24:51.323136Z",
     "iopub.status.busy": "2024-08-02T21:24:51.322735Z",
     "iopub.status.idle": "2024-08-02T21:24:51.353139Z",
     "shell.execute_reply": "2024-08-02T21:24:51.351996Z"
    },
    "papermill": {
     "duration": 0.048461,
     "end_time": "2024-08-02T21:24:51.356129",
     "exception": false,
     "start_time": "2024-08-02T21:24:51.307668",
     "status": "completed"
    },
    "tags": []
   },
   "outputs": [
    {
     "name": "stdout",
     "output_type": "stream",
     "text": [
      "<class 'pandas.core.frame.DataFrame'>\n",
      "RangeIndex: 891 entries, 0 to 890\n",
      "Data columns (total 12 columns):\n",
      " #   Column       Non-Null Count  Dtype  \n",
      "---  ------       --------------  -----  \n",
      " 0   PassengerId  891 non-null    int64  \n",
      " 1   Survived     891 non-null    int64  \n",
      " 2   Pclass       891 non-null    int64  \n",
      " 3   Name         891 non-null    object \n",
      " 4   Sex          891 non-null    object \n",
      " 5   Age          714 non-null    float64\n",
      " 6   SibSp        891 non-null    int64  \n",
      " 7   Parch        891 non-null    int64  \n",
      " 8   Ticket       891 non-null    object \n",
      " 9   Fare         891 non-null    float64\n",
      " 10  Cabin        204 non-null    object \n",
      " 11  Embarked     889 non-null    object \n",
      "dtypes: float64(2), int64(5), object(5)\n",
      "memory usage: 83.7+ KB\n"
     ]
    }
   ],
   "source": [
    "# Reading \"train_df\" dataset\n",
    "train_df.info()"
   ]
  },
  {
   "cell_type": "code",
   "execution_count": 4,
   "id": "90f66fbc",
   "metadata": {
    "execution": {
     "iopub.execute_input": "2024-08-02T21:24:51.386835Z",
     "iopub.status.busy": "2024-08-02T21:24:51.386438Z",
     "iopub.status.idle": "2024-08-02T21:24:51.399842Z",
     "shell.execute_reply": "2024-08-02T21:24:51.398513Z"
    },
    "papermill": {
     "duration": 0.031111,
     "end_time": "2024-08-02T21:24:51.402039",
     "exception": false,
     "start_time": "2024-08-02T21:24:51.370928",
     "status": "completed"
    },
    "tags": []
   },
   "outputs": [
    {
     "name": "stdout",
     "output_type": "stream",
     "text": [
      "<class 'pandas.core.frame.DataFrame'>\n",
      "RangeIndex: 418 entries, 0 to 417\n",
      "Data columns (total 11 columns):\n",
      " #   Column       Non-Null Count  Dtype  \n",
      "---  ------       --------------  -----  \n",
      " 0   PassengerId  418 non-null    int64  \n",
      " 1   Pclass       418 non-null    int64  \n",
      " 2   Name         418 non-null    object \n",
      " 3   Sex          418 non-null    object \n",
      " 4   Age          332 non-null    float64\n",
      " 5   SibSp        418 non-null    int64  \n",
      " 6   Parch        418 non-null    int64  \n",
      " 7   Ticket       418 non-null    object \n",
      " 8   Fare         417 non-null    float64\n",
      " 9   Cabin        91 non-null     object \n",
      " 10  Embarked     418 non-null    object \n",
      "dtypes: float64(2), int64(4), object(5)\n",
      "memory usage: 36.0+ KB\n"
     ]
    }
   ],
   "source": [
    "# Reading \"test_df\" dataset\n",
    "test_df.info()"
   ]
  },
  {
   "cell_type": "code",
   "execution_count": 5,
   "id": "51eae43c",
   "metadata": {
    "execution": {
     "iopub.execute_input": "2024-08-02T21:24:51.433534Z",
     "iopub.status.busy": "2024-08-02T21:24:51.432264Z",
     "iopub.status.idle": "2024-08-02T21:24:51.443198Z",
     "shell.execute_reply": "2024-08-02T21:24:51.442044Z"
    },
    "papermill": {
     "duration": 0.02866,
     "end_time": "2024-08-02T21:24:51.445284",
     "exception": false,
     "start_time": "2024-08-02T21:24:51.416624",
     "status": "completed"
    },
    "tags": []
   },
   "outputs": [
    {
     "name": "stdout",
     "output_type": "stream",
     "text": [
      "<class 'pandas.core.frame.DataFrame'>\n",
      "RangeIndex: 418 entries, 0 to 417\n",
      "Data columns (total 2 columns):\n",
      " #   Column       Non-Null Count  Dtype\n",
      "---  ------       --------------  -----\n",
      " 0   PassengerId  418 non-null    int64\n",
      " 1   Survived     418 non-null    int64\n",
      "dtypes: int64(2)\n",
      "memory usage: 6.7 KB\n"
     ]
    }
   ],
   "source": [
    "# Reading \"gender_submission\" dataset\n",
    "gender_submission.info()"
   ]
  },
  {
   "cell_type": "code",
   "execution_count": 6,
   "id": "5ac7fae9",
   "metadata": {
    "execution": {
     "iopub.execute_input": "2024-08-02T21:24:51.475360Z",
     "iopub.status.busy": "2024-08-02T21:24:51.474938Z",
     "iopub.status.idle": "2024-08-02T21:24:51.485465Z",
     "shell.execute_reply": "2024-08-02T21:24:51.484476Z"
    },
    "papermill": {
     "duration": 0.028106,
     "end_time": "2024-08-02T21:24:51.487578",
     "exception": false,
     "start_time": "2024-08-02T21:24:51.459472",
     "status": "completed"
    },
    "tags": []
   },
   "outputs": [
    {
     "data": {
      "text/plain": [
       "PassengerId      0\n",
       "Survived         0\n",
       "Pclass           0\n",
       "Name             0\n",
       "Sex              0\n",
       "Age            177\n",
       "SibSp            0\n",
       "Parch            0\n",
       "Ticket           0\n",
       "Fare             0\n",
       "Cabin          687\n",
       "Embarked         2\n",
       "dtype: int64"
      ]
     },
     "execution_count": 6,
     "metadata": {},
     "output_type": "execute_result"
    }
   ],
   "source": [
    "# Missing values in \"train_df\" dataset\n",
    "train_df.isnull().sum()"
   ]
  },
  {
   "cell_type": "code",
   "execution_count": 7,
   "id": "98ed0d0e",
   "metadata": {
    "execution": {
     "iopub.execute_input": "2024-08-02T21:24:51.518337Z",
     "iopub.status.busy": "2024-08-02T21:24:51.517574Z",
     "iopub.status.idle": "2024-08-02T21:24:51.526059Z",
     "shell.execute_reply": "2024-08-02T21:24:51.525019Z"
    },
    "papermill": {
     "duration": 0.026096,
     "end_time": "2024-08-02T21:24:51.528190",
     "exception": false,
     "start_time": "2024-08-02T21:24:51.502094",
     "status": "completed"
    },
    "tags": []
   },
   "outputs": [
    {
     "data": {
      "text/plain": [
       "PassengerId      0\n",
       "Pclass           0\n",
       "Name             0\n",
       "Sex              0\n",
       "Age             86\n",
       "SibSp            0\n",
       "Parch            0\n",
       "Ticket           0\n",
       "Fare             1\n",
       "Cabin          327\n",
       "Embarked         0\n",
       "dtype: int64"
      ]
     },
     "execution_count": 7,
     "metadata": {},
     "output_type": "execute_result"
    }
   ],
   "source": [
    "# Missing values in \"test_df\" dataset\n",
    "test_df.isnull().sum()"
   ]
  },
  {
   "cell_type": "code",
   "execution_count": 8,
   "id": "a4bdc667",
   "metadata": {
    "execution": {
     "iopub.execute_input": "2024-08-02T21:24:51.559115Z",
     "iopub.status.busy": "2024-08-02T21:24:51.558712Z",
     "iopub.status.idle": "2024-08-02T21:24:51.566645Z",
     "shell.execute_reply": "2024-08-02T21:24:51.565632Z"
    },
    "papermill": {
     "duration": 0.026073,
     "end_time": "2024-08-02T21:24:51.568857",
     "exception": false,
     "start_time": "2024-08-02T21:24:51.542784",
     "status": "completed"
    },
    "tags": []
   },
   "outputs": [
    {
     "data": {
      "text/plain": [
       "PassengerId    0\n",
       "Survived       0\n",
       "dtype: int64"
      ]
     },
     "execution_count": 8,
     "metadata": {},
     "output_type": "execute_result"
    }
   ],
   "source": [
    "# Missing values in \"gender_submission\" dataset\n",
    "gender_submission.isnull().sum()"
   ]
  },
  {
   "cell_type": "code",
   "execution_count": 9,
   "id": "9087c518",
   "metadata": {
    "execution": {
     "iopub.execute_input": "2024-08-02T21:24:51.599970Z",
     "iopub.status.busy": "2024-08-02T21:24:51.599587Z",
     "iopub.status.idle": "2024-08-02T21:24:51.634020Z",
     "shell.execute_reply": "2024-08-02T21:24:51.632973Z"
    },
    "papermill": {
     "duration": 0.052535,
     "end_time": "2024-08-02T21:24:51.636242",
     "exception": false,
     "start_time": "2024-08-02T21:24:51.583707",
     "status": "completed"
    },
    "tags": []
   },
   "outputs": [
    {
     "data": {
      "text/html": [
       "<div>\n",
       "<style scoped>\n",
       "    .dataframe tbody tr th:only-of-type {\n",
       "        vertical-align: middle;\n",
       "    }\n",
       "\n",
       "    .dataframe tbody tr th {\n",
       "        vertical-align: top;\n",
       "    }\n",
       "\n",
       "    .dataframe thead th {\n",
       "        text-align: right;\n",
       "    }\n",
       "</style>\n",
       "<table border=\"1\" class=\"dataframe\">\n",
       "  <thead>\n",
       "    <tr style=\"text-align: right;\">\n",
       "      <th></th>\n",
       "      <th>PassengerId</th>\n",
       "      <th>Survived</th>\n",
       "      <th>Pclass</th>\n",
       "      <th>Age</th>\n",
       "      <th>SibSp</th>\n",
       "      <th>Parch</th>\n",
       "      <th>Fare</th>\n",
       "    </tr>\n",
       "  </thead>\n",
       "  <tbody>\n",
       "    <tr>\n",
       "      <th>count</th>\n",
       "      <td>891.000000</td>\n",
       "      <td>891.000000</td>\n",
       "      <td>891.000000</td>\n",
       "      <td>714.000000</td>\n",
       "      <td>891.000000</td>\n",
       "      <td>891.000000</td>\n",
       "      <td>891.000000</td>\n",
       "    </tr>\n",
       "    <tr>\n",
       "      <th>mean</th>\n",
       "      <td>446.000000</td>\n",
       "      <td>0.383838</td>\n",
       "      <td>2.308642</td>\n",
       "      <td>29.699118</td>\n",
       "      <td>0.523008</td>\n",
       "      <td>0.381594</td>\n",
       "      <td>32.204208</td>\n",
       "    </tr>\n",
       "    <tr>\n",
       "      <th>std</th>\n",
       "      <td>257.353842</td>\n",
       "      <td>0.486592</td>\n",
       "      <td>0.836071</td>\n",
       "      <td>14.526497</td>\n",
       "      <td>1.102743</td>\n",
       "      <td>0.806057</td>\n",
       "      <td>49.693429</td>\n",
       "    </tr>\n",
       "    <tr>\n",
       "      <th>min</th>\n",
       "      <td>1.000000</td>\n",
       "      <td>0.000000</td>\n",
       "      <td>1.000000</td>\n",
       "      <td>0.420000</td>\n",
       "      <td>0.000000</td>\n",
       "      <td>0.000000</td>\n",
       "      <td>0.000000</td>\n",
       "    </tr>\n",
       "    <tr>\n",
       "      <th>25%</th>\n",
       "      <td>223.500000</td>\n",
       "      <td>0.000000</td>\n",
       "      <td>2.000000</td>\n",
       "      <td>20.125000</td>\n",
       "      <td>0.000000</td>\n",
       "      <td>0.000000</td>\n",
       "      <td>7.910400</td>\n",
       "    </tr>\n",
       "    <tr>\n",
       "      <th>50%</th>\n",
       "      <td>446.000000</td>\n",
       "      <td>0.000000</td>\n",
       "      <td>3.000000</td>\n",
       "      <td>28.000000</td>\n",
       "      <td>0.000000</td>\n",
       "      <td>0.000000</td>\n",
       "      <td>14.454200</td>\n",
       "    </tr>\n",
       "    <tr>\n",
       "      <th>75%</th>\n",
       "      <td>668.500000</td>\n",
       "      <td>1.000000</td>\n",
       "      <td>3.000000</td>\n",
       "      <td>38.000000</td>\n",
       "      <td>1.000000</td>\n",
       "      <td>0.000000</td>\n",
       "      <td>31.000000</td>\n",
       "    </tr>\n",
       "    <tr>\n",
       "      <th>max</th>\n",
       "      <td>891.000000</td>\n",
       "      <td>1.000000</td>\n",
       "      <td>3.000000</td>\n",
       "      <td>80.000000</td>\n",
       "      <td>8.000000</td>\n",
       "      <td>6.000000</td>\n",
       "      <td>512.329200</td>\n",
       "    </tr>\n",
       "  </tbody>\n",
       "</table>\n",
       "</div>"
      ],
      "text/plain": [
       "       PassengerId    Survived      Pclass         Age       SibSp  \\\n",
       "count   891.000000  891.000000  891.000000  714.000000  891.000000   \n",
       "mean    446.000000    0.383838    2.308642   29.699118    0.523008   \n",
       "std     257.353842    0.486592    0.836071   14.526497    1.102743   \n",
       "min       1.000000    0.000000    1.000000    0.420000    0.000000   \n",
       "25%     223.500000    0.000000    2.000000   20.125000    0.000000   \n",
       "50%     446.000000    0.000000    3.000000   28.000000    0.000000   \n",
       "75%     668.500000    1.000000    3.000000   38.000000    1.000000   \n",
       "max     891.000000    1.000000    3.000000   80.000000    8.000000   \n",
       "\n",
       "            Parch        Fare  \n",
       "count  891.000000  891.000000  \n",
       "mean     0.381594   32.204208  \n",
       "std      0.806057   49.693429  \n",
       "min      0.000000    0.000000  \n",
       "25%      0.000000    7.910400  \n",
       "50%      0.000000   14.454200  \n",
       "75%      0.000000   31.000000  \n",
       "max      6.000000  512.329200  "
      ]
     },
     "execution_count": 9,
     "metadata": {},
     "output_type": "execute_result"
    }
   ],
   "source": [
    "# Viewing statistical analysis of \"train_df\" dataset\n",
    "train_df.describe()"
   ]
  },
  {
   "cell_type": "code",
   "execution_count": 10,
   "id": "9d0991e4",
   "metadata": {
    "execution": {
     "iopub.execute_input": "2024-08-02T21:24:51.668078Z",
     "iopub.status.busy": "2024-08-02T21:24:51.667691Z",
     "iopub.status.idle": "2024-08-02T21:24:51.694159Z",
     "shell.execute_reply": "2024-08-02T21:24:51.692951Z"
    },
    "papermill": {
     "duration": 0.045199,
     "end_time": "2024-08-02T21:24:51.696413",
     "exception": false,
     "start_time": "2024-08-02T21:24:51.651214",
     "status": "completed"
    },
    "tags": []
   },
   "outputs": [
    {
     "data": {
      "text/html": [
       "<div>\n",
       "<style scoped>\n",
       "    .dataframe tbody tr th:only-of-type {\n",
       "        vertical-align: middle;\n",
       "    }\n",
       "\n",
       "    .dataframe tbody tr th {\n",
       "        vertical-align: top;\n",
       "    }\n",
       "\n",
       "    .dataframe thead th {\n",
       "        text-align: right;\n",
       "    }\n",
       "</style>\n",
       "<table border=\"1\" class=\"dataframe\">\n",
       "  <thead>\n",
       "    <tr style=\"text-align: right;\">\n",
       "      <th></th>\n",
       "      <th>PassengerId</th>\n",
       "      <th>Pclass</th>\n",
       "      <th>Age</th>\n",
       "      <th>SibSp</th>\n",
       "      <th>Parch</th>\n",
       "      <th>Fare</th>\n",
       "    </tr>\n",
       "  </thead>\n",
       "  <tbody>\n",
       "    <tr>\n",
       "      <th>count</th>\n",
       "      <td>418.000000</td>\n",
       "      <td>418.000000</td>\n",
       "      <td>332.000000</td>\n",
       "      <td>418.000000</td>\n",
       "      <td>418.000000</td>\n",
       "      <td>417.000000</td>\n",
       "    </tr>\n",
       "    <tr>\n",
       "      <th>mean</th>\n",
       "      <td>1100.500000</td>\n",
       "      <td>2.265550</td>\n",
       "      <td>30.272590</td>\n",
       "      <td>0.447368</td>\n",
       "      <td>0.392344</td>\n",
       "      <td>35.627188</td>\n",
       "    </tr>\n",
       "    <tr>\n",
       "      <th>std</th>\n",
       "      <td>120.810458</td>\n",
       "      <td>0.841838</td>\n",
       "      <td>14.181209</td>\n",
       "      <td>0.896760</td>\n",
       "      <td>0.981429</td>\n",
       "      <td>55.907576</td>\n",
       "    </tr>\n",
       "    <tr>\n",
       "      <th>min</th>\n",
       "      <td>892.000000</td>\n",
       "      <td>1.000000</td>\n",
       "      <td>0.170000</td>\n",
       "      <td>0.000000</td>\n",
       "      <td>0.000000</td>\n",
       "      <td>0.000000</td>\n",
       "    </tr>\n",
       "    <tr>\n",
       "      <th>25%</th>\n",
       "      <td>996.250000</td>\n",
       "      <td>1.000000</td>\n",
       "      <td>21.000000</td>\n",
       "      <td>0.000000</td>\n",
       "      <td>0.000000</td>\n",
       "      <td>7.895800</td>\n",
       "    </tr>\n",
       "    <tr>\n",
       "      <th>50%</th>\n",
       "      <td>1100.500000</td>\n",
       "      <td>3.000000</td>\n",
       "      <td>27.000000</td>\n",
       "      <td>0.000000</td>\n",
       "      <td>0.000000</td>\n",
       "      <td>14.454200</td>\n",
       "    </tr>\n",
       "    <tr>\n",
       "      <th>75%</th>\n",
       "      <td>1204.750000</td>\n",
       "      <td>3.000000</td>\n",
       "      <td>39.000000</td>\n",
       "      <td>1.000000</td>\n",
       "      <td>0.000000</td>\n",
       "      <td>31.500000</td>\n",
       "    </tr>\n",
       "    <tr>\n",
       "      <th>max</th>\n",
       "      <td>1309.000000</td>\n",
       "      <td>3.000000</td>\n",
       "      <td>76.000000</td>\n",
       "      <td>8.000000</td>\n",
       "      <td>9.000000</td>\n",
       "      <td>512.329200</td>\n",
       "    </tr>\n",
       "  </tbody>\n",
       "</table>\n",
       "</div>"
      ],
      "text/plain": [
       "       PassengerId      Pclass         Age       SibSp       Parch        Fare\n",
       "count   418.000000  418.000000  332.000000  418.000000  418.000000  417.000000\n",
       "mean   1100.500000    2.265550   30.272590    0.447368    0.392344   35.627188\n",
       "std     120.810458    0.841838   14.181209    0.896760    0.981429   55.907576\n",
       "min     892.000000    1.000000    0.170000    0.000000    0.000000    0.000000\n",
       "25%     996.250000    1.000000   21.000000    0.000000    0.000000    7.895800\n",
       "50%    1100.500000    3.000000   27.000000    0.000000    0.000000   14.454200\n",
       "75%    1204.750000    3.000000   39.000000    1.000000    0.000000   31.500000\n",
       "max    1309.000000    3.000000   76.000000    8.000000    9.000000  512.329200"
      ]
     },
     "execution_count": 10,
     "metadata": {},
     "output_type": "execute_result"
    }
   ],
   "source": [
    "# Viewing statistical analysis of \"test_df\" dataset\n",
    "test_df.describe()"
   ]
  },
  {
   "cell_type": "code",
   "execution_count": 11,
   "id": "ecd608be",
   "metadata": {
    "execution": {
     "iopub.execute_input": "2024-08-02T21:24:51.728908Z",
     "iopub.status.busy": "2024-08-02T21:24:51.727997Z",
     "iopub.status.idle": "2024-08-02T21:24:51.745464Z",
     "shell.execute_reply": "2024-08-02T21:24:51.744447Z"
    },
    "papermill": {
     "duration": 0.036005,
     "end_time": "2024-08-02T21:24:51.747612",
     "exception": false,
     "start_time": "2024-08-02T21:24:51.711607",
     "status": "completed"
    },
    "tags": []
   },
   "outputs": [
    {
     "data": {
      "text/html": [
       "<div>\n",
       "<style scoped>\n",
       "    .dataframe tbody tr th:only-of-type {\n",
       "        vertical-align: middle;\n",
       "    }\n",
       "\n",
       "    .dataframe tbody tr th {\n",
       "        vertical-align: top;\n",
       "    }\n",
       "\n",
       "    .dataframe thead th {\n",
       "        text-align: right;\n",
       "    }\n",
       "</style>\n",
       "<table border=\"1\" class=\"dataframe\">\n",
       "  <thead>\n",
       "    <tr style=\"text-align: right;\">\n",
       "      <th></th>\n",
       "      <th>PassengerId</th>\n",
       "      <th>Survived</th>\n",
       "      <th>Pclass</th>\n",
       "      <th>Name</th>\n",
       "      <th>Sex</th>\n",
       "      <th>Age</th>\n",
       "      <th>SibSp</th>\n",
       "      <th>Parch</th>\n",
       "      <th>Ticket</th>\n",
       "      <th>Fare</th>\n",
       "      <th>Cabin</th>\n",
       "      <th>Embarked</th>\n",
       "    </tr>\n",
       "  </thead>\n",
       "  <tbody>\n",
       "    <tr>\n",
       "      <th>384</th>\n",
       "      <td>385</td>\n",
       "      <td>0</td>\n",
       "      <td>3</td>\n",
       "      <td>Plotcharsky, Mr. Vasil</td>\n",
       "      <td>male</td>\n",
       "      <td>NaN</td>\n",
       "      <td>0</td>\n",
       "      <td>0</td>\n",
       "      <td>349227</td>\n",
       "      <td>7.8958</td>\n",
       "      <td>NaN</td>\n",
       "      <td>S</td>\n",
       "    </tr>\n",
       "  </tbody>\n",
       "</table>\n",
       "</div>"
      ],
      "text/plain": [
       "     PassengerId  Survived  Pclass                    Name   Sex  Age  SibSp  \\\n",
       "384          385         0       3  Plotcharsky, Mr. Vasil  male  NaN      0   \n",
       "\n",
       "     Parch  Ticket    Fare Cabin Embarked  \n",
       "384      0  349227  7.8958   NaN        S  "
      ]
     },
     "execution_count": 11,
     "metadata": {},
     "output_type": "execute_result"
    }
   ],
   "source": [
    "train_df.sample()"
   ]
  },
  {
   "cell_type": "code",
   "execution_count": 12,
   "id": "cfcbf8e7",
   "metadata": {
    "execution": {
     "iopub.execute_input": "2024-08-02T21:24:51.779917Z",
     "iopub.status.busy": "2024-08-02T21:24:51.779182Z",
     "iopub.status.idle": "2024-08-02T21:24:51.791027Z",
     "shell.execute_reply": "2024-08-02T21:24:51.789894Z"
    },
    "papermill": {
     "duration": 0.030399,
     "end_time": "2024-08-02T21:24:51.793115",
     "exception": false,
     "start_time": "2024-08-02T21:24:51.762716",
     "status": "completed"
    },
    "tags": []
   },
   "outputs": [],
   "source": [
    "# Merge \"test_df\" with \"gender_submission\" based on column \"PassengerId\"\n",
    "test_df = pd.merge(test_df,gender_submission,how = \"inner\",on = \"PassengerId\")\n",
    "\n",
    "# Rearrange \"Survived\" column\n",
    "col = test_df.pop(\"Survived\")\n",
    "test_df.insert(1, \"Survived\", col)"
   ]
  },
  {
   "cell_type": "code",
   "execution_count": 13,
   "id": "54529fe4",
   "metadata": {
    "execution": {
     "iopub.execute_input": "2024-08-02T21:24:51.825385Z",
     "iopub.status.busy": "2024-08-02T21:24:51.824984Z",
     "iopub.status.idle": "2024-08-02T21:24:51.843031Z",
     "shell.execute_reply": "2024-08-02T21:24:51.841781Z"
    },
    "papermill": {
     "duration": 0.037294,
     "end_time": "2024-08-02T21:24:51.845757",
     "exception": false,
     "start_time": "2024-08-02T21:24:51.808463",
     "status": "completed"
    },
    "tags": []
   },
   "outputs": [
    {
     "data": {
      "text/html": [
       "<div>\n",
       "<style scoped>\n",
       "    .dataframe tbody tr th:only-of-type {\n",
       "        vertical-align: middle;\n",
       "    }\n",
       "\n",
       "    .dataframe tbody tr th {\n",
       "        vertical-align: top;\n",
       "    }\n",
       "\n",
       "    .dataframe thead th {\n",
       "        text-align: right;\n",
       "    }\n",
       "</style>\n",
       "<table border=\"1\" class=\"dataframe\">\n",
       "  <thead>\n",
       "    <tr style=\"text-align: right;\">\n",
       "      <th></th>\n",
       "      <th>PassengerId</th>\n",
       "      <th>Survived</th>\n",
       "      <th>Pclass</th>\n",
       "      <th>Name</th>\n",
       "      <th>Sex</th>\n",
       "      <th>Age</th>\n",
       "      <th>SibSp</th>\n",
       "      <th>Parch</th>\n",
       "      <th>Ticket</th>\n",
       "      <th>Fare</th>\n",
       "      <th>Cabin</th>\n",
       "      <th>Embarked</th>\n",
       "    </tr>\n",
       "  </thead>\n",
       "  <tbody>\n",
       "    <tr>\n",
       "      <th>164</th>\n",
       "      <td>1056</td>\n",
       "      <td>0</td>\n",
       "      <td>2</td>\n",
       "      <td>Peruschitz, Rev. Joseph Maria</td>\n",
       "      <td>male</td>\n",
       "      <td>41.0</td>\n",
       "      <td>0</td>\n",
       "      <td>0</td>\n",
       "      <td>237393</td>\n",
       "      <td>13.0</td>\n",
       "      <td>NaN</td>\n",
       "      <td>S</td>\n",
       "    </tr>\n",
       "  </tbody>\n",
       "</table>\n",
       "</div>"
      ],
      "text/plain": [
       "     PassengerId  Survived  Pclass                           Name   Sex   Age  \\\n",
       "164         1056         0       2  Peruschitz, Rev. Joseph Maria  male  41.0   \n",
       "\n",
       "     SibSp  Parch  Ticket  Fare Cabin Embarked  \n",
       "164      0      0  237393  13.0   NaN        S  "
      ]
     },
     "execution_count": 13,
     "metadata": {},
     "output_type": "execute_result"
    }
   ],
   "source": [
    "test_df.sample()"
   ]
  },
  {
   "cell_type": "markdown",
   "id": "de251fff",
   "metadata": {
    "papermill": {
     "duration": 0.01513,
     "end_time": "2024-08-02T21:24:51.876383",
     "exception": false,
     "start_time": "2024-08-02T21:24:51.861253",
     "status": "completed"
    },
    "tags": []
   },
   "source": [
    "# Visualize Data\n",
    "**General Note:**\n",
    "Throughout the rest of the section, please note that \"0\" indicates not-survived and \"1\" indicates survived.\n",
    "\n",
    "**Overall Survival:**\n",
    "The majority of people did not survive the Titanic crash.\n",
    "\n",
    "**Gender:**\n",
    "Among those who survived, the majority were females.\n",
    "\n",
    "**Class:**\n",
    "When examining survival rates by class, first-class ticket holders had a higher chance of survival compared to third-class ticket holders.\n",
    "\n",
    "**Children Under 18:**\n",
    "For children under the age of 18, the survival rates for both males and females were above 0.8 for first and second-class ticket holders."
   ]
  },
  {
   "cell_type": "code",
   "execution_count": 14,
   "id": "8dc1a7fe",
   "metadata": {
    "execution": {
     "iopub.execute_input": "2024-08-02T21:24:51.909468Z",
     "iopub.status.busy": "2024-08-02T21:24:51.909078Z",
     "iopub.status.idle": "2024-08-02T21:24:52.132698Z",
     "shell.execute_reply": "2024-08-02T21:24:52.131544Z"
    },
    "papermill": {
     "duration": 0.24341,
     "end_time": "2024-08-02T21:24:52.135165",
     "exception": false,
     "start_time": "2024-08-02T21:24:51.891755",
     "status": "completed"
    },
    "tags": []
   },
   "outputs": [
    {
     "data": {
      "text/plain": [
       "<Axes: xlabel='Survived', ylabel='count'>"
      ]
     },
     "execution_count": 14,
     "metadata": {},
     "output_type": "execute_result"
    },
    {
     "data": {
      "image/png": "[encoded data removed]",
      "text/plain": [
       "<Figure size 640x480 with 1 Axes>"
      ]
     },
     "metadata": {},
     "output_type": "display_data"
    }
   ],
   "source": [
    "# Number of People Survived \n",
    "sns.countplot(data = train_df, x = \"Survived\")"
   ]
  },
  {
   "cell_type": "code",
   "execution_count": 15,
   "id": "996e11c0",
   "metadata": {
    "execution": {
     "iopub.execute_input": "2024-08-02T21:24:52.169230Z",
     "iopub.status.busy": "2024-08-02T21:24:52.168500Z",
     "iopub.status.idle": "2024-08-02T21:24:52.393927Z",
     "shell.execute_reply": "2024-08-02T21:24:52.392729Z"
    },
    "papermill": {
     "duration": 0.244646,
     "end_time": "2024-08-02T21:24:52.396163",
     "exception": false,
     "start_time": "2024-08-02T21:24:52.151517",
     "status": "completed"
    },
    "tags": []
   },
   "outputs": [
    {
     "data": {
      "text/plain": [
       "<Axes: xlabel='Survived', ylabel='count'>"
      ]
     },
     "execution_count": 15,
     "metadata": {},
     "output_type": "execute_result"
    },
    {
     "data": {
      "image/png": "[encoded data removed]",
      "text/plain": [
       "<Figure size 640x480 with 1 Axes>"
      ]
     },
     "metadata": {},
     "output_type": "display_data"
    }
   ],
   "source": [
    "# Number of People Survived by Sex\n",
    "sns.countplot(data = train_df, x = \"Survived\", hue = \"Sex\")"
   ]
  },
  {
   "cell_type": "code",
   "execution_count": 16,
   "id": "68651d32",
   "metadata": {
    "execution": {
     "iopub.execute_input": "2024-08-02T21:24:52.488655Z",
     "iopub.status.busy": "2024-08-02T21:24:52.488140Z",
     "iopub.status.idle": "2024-08-02T21:24:52.752066Z",
     "shell.execute_reply": "2024-08-02T21:24:52.750722Z"
    },
    "papermill": {
     "duration": 0.341997,
     "end_time": "2024-08-02T21:24:52.754424",
     "exception": false,
     "start_time": "2024-08-02T21:24:52.412427",
     "status": "completed"
    },
    "tags": []
   },
   "outputs": [
    {
     "data": {
      "text/plain": [
       "<Axes: xlabel='Survived', ylabel='count'>"
      ]
     },
     "execution_count": 16,
     "metadata": {},
     "output_type": "execute_result"
    },
    {
     "data": {
      "image/png": "[encoded data removed]",
      "text/plain": [
       "<Figure size 640x480 with 1 Axes>"
      ]
     },
     "metadata": {},
     "output_type": "display_data"
    }
   ],
   "source": [
    "# Number of People Survived by Class \n",
    "sns.countplot(data = train_df, x = \"Survived\", hue = \"Pclass\")"
   ]
  },
  {
   "cell_type": "code",
   "execution_count": 17,
   "id": "c0ec6f85",
   "metadata": {
    "execution": {
     "iopub.execute_input": "2024-08-02T21:24:52.790868Z",
     "iopub.status.busy": "2024-08-02T21:24:52.789818Z",
     "iopub.status.idle": "2024-08-02T21:24:52.810898Z",
     "shell.execute_reply": "2024-08-02T21:24:52.809688Z"
    },
    "papermill": {
     "duration": 0.042132,
     "end_time": "2024-08-02T21:24:52.813577",
     "exception": false,
     "start_time": "2024-08-02T21:24:52.771445",
     "status": "completed"
    },
    "tags": []
   },
   "outputs": [
    {
     "data": {
      "text/html": [
       "<div>\n",
       "<style scoped>\n",
       "    .dataframe tbody tr th:only-of-type {\n",
       "        vertical-align: middle;\n",
       "    }\n",
       "\n",
       "    .dataframe tbody tr th {\n",
       "        vertical-align: top;\n",
       "    }\n",
       "\n",
       "    .dataframe thead th {\n",
       "        text-align: right;\n",
       "    }\n",
       "</style>\n",
       "<table border=\"1\" class=\"dataframe\">\n",
       "  <thead>\n",
       "    <tr style=\"text-align: right;\">\n",
       "      <th></th>\n",
       "      <th></th>\n",
       "      <th>PassengerId</th>\n",
       "      <th>Survived</th>\n",
       "      <th>Pclass</th>\n",
       "      <th>Age</th>\n",
       "      <th>SibSp</th>\n",
       "      <th>Parch</th>\n",
       "      <th>Fare</th>\n",
       "    </tr>\n",
       "    <tr>\n",
       "      <th>Sex</th>\n",
       "      <th>Pclass</th>\n",
       "      <th></th>\n",
       "      <th></th>\n",
       "      <th></th>\n",
       "      <th></th>\n",
       "      <th></th>\n",
       "      <th></th>\n",
       "      <th></th>\n",
       "    </tr>\n",
       "  </thead>\n",
       "  <tbody>\n",
       "    <tr>\n",
       "      <th rowspan=\"3\" valign=\"top\">female</th>\n",
       "      <th>1</th>\n",
       "      <td>469.212766</td>\n",
       "      <td>0.968085</td>\n",
       "      <td>1.0</td>\n",
       "      <td>34.611765</td>\n",
       "      <td>0.553191</td>\n",
       "      <td>0.457447</td>\n",
       "      <td>106.125798</td>\n",
       "    </tr>\n",
       "    <tr>\n",
       "      <th>2</th>\n",
       "      <td>443.105263</td>\n",
       "      <td>0.921053</td>\n",
       "      <td>2.0</td>\n",
       "      <td>28.722973</td>\n",
       "      <td>0.486842</td>\n",
       "      <td>0.605263</td>\n",
       "      <td>21.970121</td>\n",
       "    </tr>\n",
       "    <tr>\n",
       "      <th>3</th>\n",
       "      <td>399.729167</td>\n",
       "      <td>0.500000</td>\n",
       "      <td>3.0</td>\n",
       "      <td>21.750000</td>\n",
       "      <td>0.895833</td>\n",
       "      <td>0.798611</td>\n",
       "      <td>16.118810</td>\n",
       "    </tr>\n",
       "    <tr>\n",
       "      <th rowspan=\"3\" valign=\"top\">male</th>\n",
       "      <th>1</th>\n",
       "      <td>455.729508</td>\n",
       "      <td>0.368852</td>\n",
       "      <td>1.0</td>\n",
       "      <td>41.281386</td>\n",
       "      <td>0.311475</td>\n",
       "      <td>0.278689</td>\n",
       "      <td>67.226127</td>\n",
       "    </tr>\n",
       "    <tr>\n",
       "      <th>2</th>\n",
       "      <td>447.962963</td>\n",
       "      <td>0.157407</td>\n",
       "      <td>2.0</td>\n",
       "      <td>30.740707</td>\n",
       "      <td>0.342593</td>\n",
       "      <td>0.222222</td>\n",
       "      <td>19.741782</td>\n",
       "    </tr>\n",
       "    <tr>\n",
       "      <th>3</th>\n",
       "      <td>455.515850</td>\n",
       "      <td>0.135447</td>\n",
       "      <td>3.0</td>\n",
       "      <td>26.507589</td>\n",
       "      <td>0.498559</td>\n",
       "      <td>0.224784</td>\n",
       "      <td>12.661633</td>\n",
       "    </tr>\n",
       "  </tbody>\n",
       "</table>\n",
       "</div>"
      ],
      "text/plain": [
       "               PassengerId  Survived  Pclass        Age     SibSp     Parch  \\\n",
       "Sex    Pclass                                                                 \n",
       "female 1        469.212766  0.968085     1.0  34.611765  0.553191  0.457447   \n",
       "       2        443.105263  0.921053     2.0  28.722973  0.486842  0.605263   \n",
       "       3        399.729167  0.500000     3.0  21.750000  0.895833  0.798611   \n",
       "male   1        455.729508  0.368852     1.0  41.281386  0.311475  0.278689   \n",
       "       2        447.962963  0.157407     2.0  30.740707  0.342593  0.222222   \n",
       "       3        455.515850  0.135447     3.0  26.507589  0.498559  0.224784   \n",
       "\n",
       "                     Fare  \n",
       "Sex    Pclass              \n",
       "female 1       106.125798  \n",
       "       2        21.970121  \n",
       "       3        16.118810  \n",
       "male   1        67.226127  \n",
       "       2        19.741782  \n",
       "       3        12.661633  "
      ]
     },
     "execution_count": 17,
     "metadata": {},
     "output_type": "execute_result"
    }
   ],
   "source": [
    "# This table shows that females have higher survival rates than males\n",
    "# Within \"Pclass\", first-class ticket holders have a higher survival rate than second and third-class ticket holders\n",
    "grouped_mean = train_df.select_dtypes(include = [\"number\"]).columns\n",
    "grouped_mean = train_df.groupby([\"Sex\", \"Pclass\"])[grouped_mean].mean()\n",
    "grouped_mean"
   ]
  },
  {
   "cell_type": "code",
   "execution_count": 18,
   "id": "f231bcd9",
   "metadata": {
    "execution": {
     "iopub.execute_input": "2024-08-02T21:24:52.850183Z",
     "iopub.status.busy": "2024-08-02T21:24:52.849787Z",
     "iopub.status.idle": "2024-08-02T21:24:52.877080Z",
     "shell.execute_reply": "2024-08-02T21:24:52.876012Z"
    },
    "papermill": {
     "duration": 0.048182,
     "end_time": "2024-08-02T21:24:52.879350",
     "exception": false,
     "start_time": "2024-08-02T21:24:52.831168",
     "status": "completed"
    },
    "tags": []
   },
   "outputs": [
    {
     "data": {
      "text/html": [
       "<div>\n",
       "<style scoped>\n",
       "    .dataframe tbody tr th:only-of-type {\n",
       "        vertical-align: middle;\n",
       "    }\n",
       "\n",
       "    .dataframe tbody tr th {\n",
       "        vertical-align: top;\n",
       "    }\n",
       "\n",
       "    .dataframe thead th {\n",
       "        text-align: right;\n",
       "    }\n",
       "</style>\n",
       "<table border=\"1\" class=\"dataframe\">\n",
       "  <thead>\n",
       "    <tr style=\"text-align: right;\">\n",
       "      <th></th>\n",
       "      <th></th>\n",
       "      <th>PassengerId</th>\n",
       "      <th>Survived</th>\n",
       "      <th>Pclass</th>\n",
       "      <th>Age</th>\n",
       "      <th>SibSp</th>\n",
       "      <th>Parch</th>\n",
       "      <th>Fare</th>\n",
       "    </tr>\n",
       "    <tr>\n",
       "      <th>Sex</th>\n",
       "      <th>Pclass</th>\n",
       "      <th></th>\n",
       "      <th></th>\n",
       "      <th></th>\n",
       "      <th></th>\n",
       "      <th></th>\n",
       "      <th></th>\n",
       "      <th></th>\n",
       "    </tr>\n",
       "  </thead>\n",
       "  <tbody>\n",
       "    <tr>\n",
       "      <th rowspan=\"3\" valign=\"top\">female</th>\n",
       "      <th>1</th>\n",
       "      <td>525.375000</td>\n",
       "      <td>0.875000</td>\n",
       "      <td>1.0</td>\n",
       "      <td>14.125000</td>\n",
       "      <td>0.500000</td>\n",
       "      <td>0.875000</td>\n",
       "      <td>104.083337</td>\n",
       "    </tr>\n",
       "    <tr>\n",
       "      <th>2</th>\n",
       "      <td>369.250000</td>\n",
       "      <td>1.000000</td>\n",
       "      <td>2.0</td>\n",
       "      <td>8.333333</td>\n",
       "      <td>0.583333</td>\n",
       "      <td>1.083333</td>\n",
       "      <td>26.241667</td>\n",
       "    </tr>\n",
       "    <tr>\n",
       "      <th>3</th>\n",
       "      <td>374.942857</td>\n",
       "      <td>0.542857</td>\n",
       "      <td>3.0</td>\n",
       "      <td>8.428571</td>\n",
       "      <td>1.571429</td>\n",
       "      <td>1.057143</td>\n",
       "      <td>18.727977</td>\n",
       "    </tr>\n",
       "    <tr>\n",
       "      <th rowspan=\"3\" valign=\"top\">male</th>\n",
       "      <th>1</th>\n",
       "      <td>526.500000</td>\n",
       "      <td>1.000000</td>\n",
       "      <td>1.0</td>\n",
       "      <td>8.230000</td>\n",
       "      <td>0.500000</td>\n",
       "      <td>2.000000</td>\n",
       "      <td>116.072900</td>\n",
       "    </tr>\n",
       "    <tr>\n",
       "      <th>2</th>\n",
       "      <td>527.818182</td>\n",
       "      <td>0.818182</td>\n",
       "      <td>2.0</td>\n",
       "      <td>4.757273</td>\n",
       "      <td>0.727273</td>\n",
       "      <td>1.000000</td>\n",
       "      <td>25.659473</td>\n",
       "    </tr>\n",
       "    <tr>\n",
       "      <th>3</th>\n",
       "      <td>437.953488</td>\n",
       "      <td>0.232558</td>\n",
       "      <td>3.0</td>\n",
       "      <td>9.963256</td>\n",
       "      <td>2.069767</td>\n",
       "      <td>1.000000</td>\n",
       "      <td>22.752523</td>\n",
       "    </tr>\n",
       "  </tbody>\n",
       "</table>\n",
       "</div>"
      ],
      "text/plain": [
       "               PassengerId  Survived  Pclass        Age     SibSp     Parch  \\\n",
       "Sex    Pclass                                                                 \n",
       "female 1        525.375000  0.875000     1.0  14.125000  0.500000  0.875000   \n",
       "       2        369.250000  1.000000     2.0   8.333333  0.583333  1.083333   \n",
       "       3        374.942857  0.542857     3.0   8.428571  1.571429  1.057143   \n",
       "male   1        526.500000  1.000000     1.0   8.230000  0.500000  2.000000   \n",
       "       2        527.818182  0.818182     2.0   4.757273  0.727273  1.000000   \n",
       "       3        437.953488  0.232558     3.0   9.963256  2.069767  1.000000   \n",
       "\n",
       "                     Fare  \n",
       "Sex    Pclass              \n",
       "female 1       104.083337  \n",
       "       2        26.241667  \n",
       "       3        18.727977  \n",
       "male   1       116.072900  \n",
       "       2        25.659473  \n",
       "       3        22.752523  "
      ]
     },
     "execution_count": 18,
     "metadata": {},
     "output_type": "execute_result"
    }
   ],
   "source": [
    "# This table shows the survival rate for children under the age of 18\n",
    "# For first and second-class ticket holders, the survival rates are 0.8 and above regardless of gender\n",
    "# However, the survival rate for third-class ticket holders is much lower\n",
    "# When viewed from a gender perspective, females have a higher survival rate than their male counterparts\n",
    "children = train_df.query(\"Age < 18\")\n",
    "grouped_mean = children.select_dtypes(include = [\"number\"]).columns\n",
    "grouped_mean = children.groupby([\"Sex\", \"Pclass\"])[grouped_mean].mean()\n",
    "grouped_mean"
   ]
  },
  {
   "cell_type": "code",
   "execution_count": 19,
   "id": "1d11e1f6",
   "metadata": {
    "execution": {
     "iopub.execute_input": "2024-08-02T21:24:52.915730Z",
     "iopub.status.busy": "2024-08-02T21:24:52.915338Z",
     "iopub.status.idle": "2024-08-02T21:24:53.761897Z",
     "shell.execute_reply": "2024-08-02T21:24:53.760600Z"
    },
    "papermill": {
     "duration": 0.867558,
     "end_time": "2024-08-02T21:24:53.764205",
     "exception": false,
     "start_time": "2024-08-02T21:24:52.896647",
     "status": "completed"
    },
    "tags": []
   },
   "outputs": [
    {
     "data": {
      "text/plain": [
       "Text(0, 0.5, 'Count')"
      ]
     },
     "execution_count": 19,
     "metadata": {},
     "output_type": "execute_result"
    },
    {
     "data": {
      "image/png": "[encoded data removed]",
      "text/plain": [
       "<Figure size 1400x300 with 2 Axes>"
      ]
     },
     "metadata": {},
     "output_type": "display_data"
    }
   ],
   "source": [
    "# Creating two histogram\n",
    "fig, (ax1, ax2) = plt.subplots(1, 2, figsize=(14, 3))\n",
    "\n",
    "# Define \"male\" and \"female\" with all missing values in column \"Age\" dropped\n",
    "male = train_df.query(\"Sex == 'male'\").dropna(subset = [\"Age\"])\n",
    "female = train_df.query(\"Sex == 'female'\").dropna(subset = [\"Age\"])\n",
    "\n",
    "# Age Distribution for Male Passengers Survival\n",
    "sns.histplot(data = male, x = \"Age\", hue = \"Survived\", kde = True, ax = ax1)\n",
    "ax1.set_title(\"Age Distribution for Male Passengers\")\n",
    "ax1.set_xlabel(\"Age\")\n",
    "ax1.set_ylabel(\"Count\")\n",
    "\n",
    "# Age distribution for Female Passengers Survival \n",
    "sns.histplot(data = female, x = \"Age\", hue = \"Survived\", kde = True, ax = ax2)\n",
    "ax1.set_title(\"Age Distribution for Female Passengers\")\n",
    "ax2.set_xlabel(\"Age\")\n",
    "ax2.set_ylabel(\"Count\")"
   ]
  },
  {
   "cell_type": "code",
   "execution_count": 20,
   "id": "ef7fd124",
   "metadata": {
    "execution": {
     "iopub.execute_input": "2024-08-02T21:24:53.802255Z",
     "iopub.status.busy": "2024-08-02T21:24:53.801826Z",
     "iopub.status.idle": "2024-08-02T21:24:54.441556Z",
     "shell.execute_reply": "2024-08-02T21:24:54.440092Z"
    },
    "papermill": {
     "duration": 0.661601,
     "end_time": "2024-08-02T21:24:54.444020",
     "exception": false,
     "start_time": "2024-08-02T21:24:53.782419",
     "status": "completed"
    },
    "tags": []
   },
   "outputs": [
    {
     "data": {
      "text/plain": [
       "<Axes: xlabel='Pclass', ylabel='Survived'>"
      ]
     },
     "execution_count": 20,
     "metadata": {},
     "output_type": "execute_result"
    },
    {
     "data": {
      "image/png": "[encoded data removed]",
      "text/plain": [
       "<Figure size 1400x300 with 2 Axes>"
      ]
     },
     "metadata": {},
     "output_type": "display_data"
    }
   ],
   "source": [
    "# Creating two graphs\n",
    "fig, (ax1, ax2) = plt.subplots(1, 2, figsize=(14, 3))\n",
    "\n",
    "# This plot shows survival rate distribution by Class\n",
    "sns.kdeplot(data = train_df, x = \"Pclass\", hue = \"Survived\", multiple=\"stack\", ax = ax1)\n",
    "sns.barplot(data = train_df, x = \"Pclass\", y = \"Survived\", ax = ax2)"
   ]
  },
  {
   "cell_type": "code",
   "execution_count": 21,
   "id": "d2f624af",
   "metadata": {
    "execution": {
     "iopub.execute_input": "2024-08-02T21:24:54.496272Z",
     "iopub.status.busy": "2024-08-02T21:24:54.495758Z",
     "iopub.status.idle": "2024-08-02T21:24:54.877630Z",
     "shell.execute_reply": "2024-08-02T21:24:54.876136Z"
    },
    "papermill": {
     "duration": 0.411803,
     "end_time": "2024-08-02T21:24:54.880060",
     "exception": false,
     "start_time": "2024-08-02T21:24:54.468257",
     "status": "completed"
    },
    "tags": []
   },
   "outputs": [
    {
     "data": {
      "image/png": "[encoded data removed]",
      "text/plain": [
       "<Figure size 640x480 with 2 Axes>"
      ]
     },
     "metadata": {},
     "output_type": "display_data"
    }
   ],
   "source": [
    "# Correlation matrix between \"Pclass\", \"Age\", \"SibSp\", \"Parch\",\"Fare\", and \"Survived\"\n",
    "sns.heatmap(train_df[[\"Pclass\",\"Age\",\"SibSp\",\"Parch\",\"Fare\",\"Survived\"]].corr(), cmap=\"YlGnBu\", annot=True)\n",
    "plt.show()"
   ]
  },
  {
   "cell_type": "markdown",
   "id": "f45d08e9",
   "metadata": {
    "papermill": {
     "duration": 0.019856,
     "end_time": "2024-08-02T21:24:54.919909",
     "exception": false,
     "start_time": "2024-08-02T21:24:54.900053",
     "status": "completed"
    },
    "tags": []
   },
   "source": [
    "# Feature Engineering\n",
    "**PassengerId:**\n",
    "The \"PassengerId\" column contains 891 unique values in the train dataset and 418 unique values in the test dataset, matching the total number of entries in each dataset. Since it does not provide any meaningful information, it has been dropped.\n",
    "\n",
    "**Ticket:**\n",
    "The \"Ticket\" column has 681 unique values in the train dataset and 363 unique values in the test dataset, making it challenging to transform into a meaningful feature. Therefore, it has been dropped.\n",
    "\n",
    "**Fare:**\n",
    "There is one missing value in the test dataset. Dropping it is not advisable since it is crucial for testing. Therefore, use the quantile-based binning method to divide the \"Fare\" column into six equal-sized categories, categorizing the fare ranges accordingly. This will split the \"Fare\" column into six intervals based on the quantile binning results.\n",
    "\n",
    "**Sex:**\n",
    "The \"Sex\" column has been converted from strings to integers using mapping: male is mapped to \"0\" and female to \"1\".\n",
    "\n",
    "**SibSp, Parch, Relatives, and Not Alone:**\n",
    "The \"SibSp\" column indicates the number of siblings or spouses aboard, while the \"Parch\" column indicates the number of parents or children aboard. The \"Relatives\" column is the sum of \"SibSp\" and \"Parch\". The \"Not Alone\" column is derived from \"Relatives\"; if \"Relatives\" is greater than 1, \"Not Alone\" is set to 0, indicating the passenger is not alone. If \"Relatives\" is 1 or less, \"Not Alone\" is set to 1, indicating the passenger is alone.\n",
    "\n",
    "**Cabin and Deck:**\n",
    "Based on the photo below, the cabin is divided into 7 parts: A, B, C, D, E, F, G. Upper decks are A, B, C; middle decks are D, E; and lower decks are F, G. A new column, \"Deck\", is created to extract the letter from the \"Cabin\" column. \n",
    "\n",
    "**Age:**\n",
    "The train and test datasets together contain 263 missing values. Removing the column would lead to a loss of important data. Consequently, the missing values were imputed with random values within the range of the mean minus the standard deviation and the mean plus the standard deviation. Once the missing values were filled, the \"Age\" column was divided into various age groups.\n",
    "\n",
    "**Name and Title:**\n",
    "Individual words are extracted from the \"Name\" column, and their frequencies are calculated. The four most frequent words (\"Mr\", \"Miss\", \"Mrs\", \"Master\") are identified as titles. A new \"Title\" column is created with these words mapped to numerical values, and the original \"Name\" column is then dropped.\n",
    "\n",
    "\n",
    "\n",
    "\n",
    "\n",
    "\n",
    "\n",
    "\n",
    "\n",
    "\n",
    "\n",
    "\n",
    "\n",
    "\n",
    "\n",
    "\n",
    "\n",
    "\n",
    "\n",
    "\n"
   ]
  },
  {
   "cell_type": "code",
   "execution_count": 22,
   "id": "4f15d505",
   "metadata": {
    "execution": {
     "iopub.execute_input": "2024-08-02T21:24:54.963167Z",
     "iopub.status.busy": "2024-08-02T21:24:54.962807Z",
     "iopub.status.idle": "2024-08-02T21:24:54.967572Z",
     "shell.execute_reply": "2024-08-02T21:24:54.966535Z"
    },
    "papermill": {
     "duration": 0.027887,
     "end_time": "2024-08-02T21:24:54.969740",
     "exception": false,
     "start_time": "2024-08-02T21:24:54.941853",
     "status": "completed"
    },
    "tags": []
   },
   "outputs": [],
   "source": [
    "# Combining two dataframes \n",
    "data = [train_df,test_df]"
   ]
  },
  {
   "cell_type": "code",
   "execution_count": 23,
   "id": "2e382e78",
   "metadata": {
    "execution": {
     "iopub.execute_input": "2024-08-02T21:24:55.011306Z",
     "iopub.status.busy": "2024-08-02T21:24:55.010363Z",
     "iopub.status.idle": "2024-08-02T21:24:55.019794Z",
     "shell.execute_reply": "2024-08-02T21:24:55.018515Z"
    },
    "papermill": {
     "duration": 0.032611,
     "end_time": "2024-08-02T21:24:55.022046",
     "exception": false,
     "start_time": "2024-08-02T21:24:54.989435",
     "status": "completed"
    },
    "tags": []
   },
   "outputs": [
    {
     "name": "stdout",
     "output_type": "stream",
     "text": [
      "Number of unique values in the training dataset column 'PassengerId' is 891\n",
      "Number of unique values in the testing dataset column 'PassengerId' is 418\n",
      "----------------------------------------------------------------------------------------------------\n",
      "'PassengerId' column has been succesfully dropped on both train and test datasets\n"
     ]
    }
   ],
   "source": [
    "# Training dataset \"PassengerID\"\n",
    "train_unique_passenger_id_count = train_df[\"PassengerId\"].nunique()\n",
    "print(f\"Number of unique values in the training dataset column 'PassengerId' is {train_unique_passenger_id_count}\")\n",
    "\n",
    "# Testing dataset \"PassengerID\"\n",
    "test_unique_passenger_id_count = test_df[\"PassengerId\"].nunique()\n",
    "print(f\"Number of unique values in the testing dataset column 'PassengerId' is {test_unique_passenger_id_count}\")\n",
    "\n",
    "for dataset in data:\n",
    "    dataset.drop([\"PassengerId\"], axis = 1, inplace = True)\n",
    "\n",
    "print(\"-\"* 100)\n",
    "\n",
    "print(\"'PassengerId' column has been succesfully dropped on both train and test datasets\")"
   ]
  },
  {
   "cell_type": "code",
   "execution_count": 24,
   "id": "561cf790",
   "metadata": {
    "execution": {
     "iopub.execute_input": "2024-08-02T21:24:55.063789Z",
     "iopub.status.busy": "2024-08-02T21:24:55.062964Z",
     "iopub.status.idle": "2024-08-02T21:24:55.073129Z",
     "shell.execute_reply": "2024-08-02T21:24:55.071879Z"
    },
    "papermill": {
     "duration": 0.033573,
     "end_time": "2024-08-02T21:24:55.075466",
     "exception": false,
     "start_time": "2024-08-02T21:24:55.041893",
     "status": "completed"
    },
    "tags": []
   },
   "outputs": [
    {
     "name": "stdout",
     "output_type": "stream",
     "text": [
      "Number of unique values in the training dataset column 'Ticket' is 681\n",
      "Number of unique values in the testing dataset column 'Ticket' is 363\n",
      "----------------------------------------------------------------------------------------------------\n",
      "'Ticket' column has been succesfully dropped on both train and test datasets\n"
     ]
    }
   ],
   "source": [
    "# Training dataset \"Ticket\"\n",
    "train_unique_ticket_count = train_df[\"Ticket\"].nunique()\n",
    "print(f\"Number of unique values in the training dataset column 'Ticket' is {train_unique_ticket_count}\")\n",
    "\n",
    "# Testing dataset \"Ticket\"\n",
    "test_unique_ticket_count = test_df[\"Ticket\"].nunique()\n",
    "print(f\"Number of unique values in the testing dataset column 'Ticket' is {test_unique_ticket_count}\")\n",
    "\n",
    "for dataset in data:\n",
    "    dataset.drop([\"Ticket\"], axis = 1, inplace = True)\n",
    "\n",
    "print(\"-\"* 100)\n",
    "\n",
    "print(\"'Ticket' column has been succesfully dropped on both train and test datasets\")"
   ]
  },
  {
   "cell_type": "code",
   "execution_count": 25,
   "id": "d03f87a6",
   "metadata": {
    "execution": {
     "iopub.execute_input": "2024-08-02T21:24:55.117060Z",
     "iopub.status.busy": "2024-08-02T21:24:55.116645Z",
     "iopub.status.idle": "2024-08-02T21:24:55.126038Z",
     "shell.execute_reply": "2024-08-02T21:24:55.124955Z"
    },
    "papermill": {
     "duration": 0.032901,
     "end_time": "2024-08-02T21:24:55.128404",
     "exception": false,
     "start_time": "2024-08-02T21:24:55.095503",
     "status": "completed"
    },
    "tags": []
   },
   "outputs": [
    {
     "name": "stdout",
     "output_type": "stream",
     "text": [
      "Number of missing values in the training dataset column 'Fare' before feature engineering is 0\n",
      "Number of missing values in the testing dataset column 'Fare' before feature engineering is 1\n"
     ]
    }
   ],
   "source": [
    "# Training dataset \"Fare\"\n",
    "train_missing_values_fare_count = train_df[\"Fare\"].isnull().sum()\n",
    "print(f\"Number of missing values in the training dataset column 'Fare' before feature engineering is {train_missing_values_fare_count}\")\n",
    "\n",
    "# Testing dataset \"Fare\"\n",
    "test_missing_values_fare_count = test_df[\"Fare\"].isnull().sum()\n",
    "print(f\"Number of missing values in the testing dataset column 'Fare' before feature engineering is {test_missing_values_fare_count}\")\n",
    "\n",
    "for dataset in data:\n",
    "    dataset[\"Fare\"] = dataset[\"Fare\"].fillna(0)\n",
    "    dataset[\"Fare\"] = dataset[\"Fare\"].astype(int)\n"
   ]
  },
  {
   "cell_type": "code",
   "execution_count": 26,
   "id": "7fb7f42a",
   "metadata": {
    "execution": {
     "iopub.execute_input": "2024-08-02T21:24:55.169934Z",
     "iopub.status.busy": "2024-08-02T21:24:55.169488Z",
     "iopub.status.idle": "2024-08-02T21:24:55.191767Z",
     "shell.execute_reply": "2024-08-02T21:24:55.190421Z"
    },
    "papermill": {
     "duration": 0.045877,
     "end_time": "2024-08-02T21:24:55.194122",
     "exception": false,
     "start_time": "2024-08-02T21:24:55.148245",
     "status": "completed"
    },
    "tags": []
   },
   "outputs": [
    {
     "data": {
      "text/plain": [
       "0      (-0.001, 7.0]\n",
       "1      (52.0, 512.0]\n",
       "2      (-0.001, 7.0]\n",
       "3      (52.0, 512.0]\n",
       "4         (7.0, 8.0]\n",
       "           ...      \n",
       "886      (8.0, 14.0]\n",
       "887     (26.0, 52.0]\n",
       "888     (14.0, 26.0]\n",
       "889     (26.0, 52.0]\n",
       "890    (-0.001, 7.0]\n",
       "Name: Fare, Length: 891, dtype: category\n",
       "Categories (6, interval[float64, right]): [(-0.001, 7.0] < (7.0, 8.0] < (8.0, 14.0] < (14.0, 26.0] < (26.0, 52.0] < (52.0, 512.0]]"
      ]
     },
     "execution_count": 26,
     "metadata": {},
     "output_type": "execute_result"
    }
   ],
   "source": [
    "# Divide the \"Fare\" column into 6 equal-sized quantiles to categorize fare ranges\n",
    "pd.qcut(train_df[\"Fare\"], q = 6) "
   ]
  },
  {
   "cell_type": "code",
   "execution_count": 27,
   "id": "68ba71c7",
   "metadata": {
    "execution": {
     "iopub.execute_input": "2024-08-02T21:24:55.236274Z",
     "iopub.status.busy": "2024-08-02T21:24:55.235894Z",
     "iopub.status.idle": "2024-08-02T21:24:55.262906Z",
     "shell.execute_reply": "2024-08-02T21:24:55.261546Z"
    },
    "papermill": {
     "duration": 0.051388,
     "end_time": "2024-08-02T21:24:55.265484",
     "exception": false,
     "start_time": "2024-08-02T21:24:55.214096",
     "status": "completed"
    },
    "tags": []
   },
   "outputs": [],
   "source": [
    "# Categorize \"Fare\" column into six intervals based on results when categorizing fare ranges using \"qcut\" method\n",
    "for dataset in data:\n",
    "    dataset.loc[ dataset[\"Fare\"] <= 7, \"Fare\"] = 0\n",
    "    dataset.loc[(dataset[\"Fare\"] > 7) & (dataset[\"Fare\"] <= 8), \"Fare\"] = 1\n",
    "    dataset.loc[(dataset[\"Fare\"] > 8) & (dataset[\"Fare\"] <= 14), \"Fare\"]   = 2\n",
    "    dataset.loc[(dataset[\"Fare\"] > 14) & (dataset[\"Fare\"] <= 26), \"Fare\"]   = 3\n",
    "    dataset.loc[(dataset[\"Fare\"] > 26) & (dataset[\"Fare\"] <= 52), \"Fare\"]   = 4\n",
    "    dataset.loc[dataset[\"Fare\"] > 52, \"Fare\"] = 5\n",
    "    dataset[\"Fare\"] = dataset[\"Fare\"].astype(int)"
   ]
  },
  {
   "cell_type": "code",
   "execution_count": 28,
   "id": "e024ab3e",
   "metadata": {
    "execution": {
     "iopub.execute_input": "2024-08-02T21:24:55.316660Z",
     "iopub.status.busy": "2024-08-02T21:24:55.315975Z",
     "iopub.status.idle": "2024-08-02T21:24:55.324747Z",
     "shell.execute_reply": "2024-08-02T21:24:55.323699Z"
    },
    "papermill": {
     "duration": 0.034429,
     "end_time": "2024-08-02T21:24:55.327021",
     "exception": false,
     "start_time": "2024-08-02T21:24:55.292592",
     "status": "completed"
    },
    "tags": []
   },
   "outputs": [
    {
     "name": "stdout",
     "output_type": "stream",
     "text": [
      "Number of missing values in the training dataset column 'Fare' after feature engineering is 0\n",
      "Number of missing values in the testing dataset column 'Fare' after feature engineering is 0\n"
     ]
    }
   ],
   "source": [
    "# Training dataset \"Fare\"\n",
    "train_missing_values_fare_count = train_df[\"Fare\"].isnull().sum()\n",
    "print(f\"Number of missing values in the training dataset column 'Fare' after feature engineering is {train_missing_values_fare_count}\")\n",
    "\n",
    "# Testing dataset \"Fare\"\n",
    "test_missing_values_fare_count = test_df[\"Fare\"].isnull().sum()\n",
    "print(f\"Number of missing values in the testing dataset column 'Fare' after feature engineering is {test_missing_values_fare_count}\")"
   ]
  },
  {
   "cell_type": "code",
   "execution_count": 29,
   "id": "de4988f8",
   "metadata": {
    "execution": {
     "iopub.execute_input": "2024-08-02T21:24:55.369102Z",
     "iopub.status.busy": "2024-08-02T21:24:55.368302Z",
     "iopub.status.idle": "2024-08-02T21:24:55.377006Z",
     "shell.execute_reply": "2024-08-02T21:24:55.376003Z"
    },
    "papermill": {
     "duration": 0.031986,
     "end_time": "2024-08-02T21:24:55.378988",
     "exception": false,
     "start_time": "2024-08-02T21:24:55.347002",
     "status": "completed"
    },
    "tags": []
   },
   "outputs": [
    {
     "name": "stdout",
     "output_type": "stream",
     "text": [
      "Mapping in the 'Sex' column has been successfully completed: 0 for male and 1 for female.\n"
     ]
    }
   ],
   "source": [
    "# Dictionary to map \"mapping_sex_column\" letters to numerical values\n",
    "mapping_sex_column = {\"male\": 0,\"female\": 1}\n",
    "\n",
    "# Map \"Sex\" column from the dictionary \"mapping_sex_column\"\n",
    "for dataset in data:\n",
    "  dataset[\"Sex\"] = dataset[\"Sex\"].map(mapping_sex_column)\n",
    "\n",
    "print(\"Mapping in the 'Sex' column has been successfully completed: 0 for male and 1 for female.\")"
   ]
  },
  {
   "cell_type": "code",
   "execution_count": 30,
   "id": "80f8e57c",
   "metadata": {
    "execution": {
     "iopub.execute_input": "2024-08-02T21:24:55.422090Z",
     "iopub.status.busy": "2024-08-02T21:24:55.421700Z",
     "iopub.status.idle": "2024-08-02T21:24:55.881776Z",
     "shell.execute_reply": "2024-08-02T21:24:55.880583Z"
    },
    "papermill": {
     "duration": 0.484373,
     "end_time": "2024-08-02T21:24:55.884163",
     "exception": false,
     "start_time": "2024-08-02T21:24:55.399790",
     "status": "completed"
    },
    "tags": []
   },
   "outputs": [
    {
     "data": {
      "text/plain": [
       "<Axes: xlabel='Relatives', ylabel='Survived'>"
      ]
     },
     "execution_count": 30,
     "metadata": {},
     "output_type": "execute_result"
    },
    {
     "data": {
      "image/png": "[encoded data removed]",
      "text/plain": [
       "<Figure size 640x480 with 1 Axes>"
      ]
     },
     "metadata": {},
     "output_type": "display_data"
    }
   ],
   "source": [
    "# \"SibSp\" represents the number of siblings/spouses aboard, and \"Parch\" represents the number of parents/children aboard.\n",
    "# Combining these two columns to create a new column called \"Relatives\" to indicate if the passenger has relatives on board the Titanic.\n",
    "for dataset in data:\n",
    "    dataset[\"Relatives\"] = dataset[\"SibSp\"] + dataset[\"Parch\"]\n",
    "    \n",
    "# This function will be used for the \"Not Alone\" column \n",
    "def not_alone(relative):\n",
    "    if relative > 0:\n",
    "        return 0   # Passenger has relatives\n",
    "    else:\n",
    "        return 1   # Passenger has no relatives\n",
    "\n",
    "# Applying function \"Not Alone\"    \n",
    "for dataset in data:\n",
    "    dataset[\"Not Alone\"] = dataset[\"Relatives\"].apply(not_alone)\n",
    "    \n",
    "# Plotting graph\n",
    "sns.lineplot(data = train_df, x = \"Relatives\", y = \"Survived\")"
   ]
  },
  {
   "cell_type": "code",
   "execution_count": 31,
   "id": "870e9388",
   "metadata": {
    "execution": {
     "iopub.execute_input": "2024-08-02T21:24:55.928128Z",
     "iopub.status.busy": "2024-08-02T21:24:55.927739Z",
     "iopub.status.idle": "2024-08-02T21:24:55.934899Z",
     "shell.execute_reply": "2024-08-02T21:24:55.933680Z"
    },
    "papermill": {
     "duration": 0.032008,
     "end_time": "2024-08-02T21:24:55.937090",
     "exception": false,
     "start_time": "2024-08-02T21:24:55.905082",
     "status": "completed"
    },
    "tags": []
   },
   "outputs": [
    {
     "data": {
      "text/html": [
       "<img src=\"https://upload.wikimedia.org/wikipedia/commons/0/0d/Olympic_%26_Titanic_cutaway_diagram.png\"/>"
      ],
      "text/plain": [
       "<IPython.core.display.Image object>"
      ]
     },
     "metadata": {},
     "output_type": "display_data"
    }
   ],
   "source": [
    "# Import the Image and display functions from IPython.display\n",
    "from IPython.display import Image, display\n",
    "\n",
    "# Displaying the image\n",
    "display(Image(url=\"https://upload.wikimedia.org/wikipedia/commons/0/0d/Olympic_%26_Titanic_cutaway_diagram.png\"))"
   ]
  },
  {
   "cell_type": "code",
   "execution_count": 32,
   "id": "a4ccb05a",
   "metadata": {
    "execution": {
     "iopub.execute_input": "2024-08-02T21:24:55.981264Z",
     "iopub.status.busy": "2024-08-02T21:24:55.980879Z",
     "iopub.status.idle": "2024-08-02T21:24:55.999579Z",
     "shell.execute_reply": "2024-08-02T21:24:55.998173Z"
    },
    "papermill": {
     "duration": 0.043786,
     "end_time": "2024-08-02T21:24:56.002044",
     "exception": false,
     "start_time": "2024-08-02T21:24:55.958258",
     "status": "completed"
    },
    "tags": []
   },
   "outputs": [
    {
     "name": "stdout",
     "output_type": "stream",
     "text": [
      "The 'Deck' column has been successfully created by extracting the letter from the 'Cabin' column.\n"
     ]
    }
   ],
   "source": [
    "# The image above displays certain decks that are to specific classes\n",
    "# Upper decks (A, B, C) | Middle decks (D, E) | Lower decks (F, G)\n",
    "\n",
    "# Dictionary to map \"mapping_deck_column\" letters to numerical values\n",
    "mapping_deck_column = {\"A\": 1,\"B\": 2,\"C\": 3,\"D\": 4,\"E\": 5,\"F\": 6,\"G\": 7,\"U\": 8}\n",
    "\n",
    "# The \"Deck\" column is extracted from the \"Cabin\" column. For instance, if the \"Cabin\" is D45, the corresponding \"Deck\" would be D\n",
    "for dataset in data:\n",
    "  dataset[\"Cabin\"] = dataset[\"Cabin\"].fillna(\"U0\")  # Fill missing values with \"U0\"\n",
    "  dataset[\"Deck\"] = dataset[\"Cabin\"].map(lambda x: re.compile(\"([a-zA-Z]+)\").search(x).group())  # Extracting letter\n",
    "  dataset[\"Deck\"] = dataset[\"Deck\"].map(mapping_deck_column) # Map \"Deck\" column from the dictionary \"mapping_deck_column\"\n",
    "  dataset[\"Deck\"] = dataset[\"Deck\"].fillna(0)  # Fill missing values with \"0\"\n",
    "  dataset[\"Deck\"] = dataset[\"Deck\"].astype(int)  # Convert column \"Deck\" to integer\n",
    "  dataset.drop([\"Cabin\"], axis = 1, inplace = True)  # Dropping the \"Cabin\" column\n",
    "\n",
    "print(\"The 'Deck' column has been successfully created by extracting the letter from the 'Cabin' column.\")"
   ]
  },
  {
   "cell_type": "code",
   "execution_count": 33,
   "id": "3b8a5d37",
   "metadata": {
    "execution": {
     "iopub.execute_input": "2024-08-02T21:24:56.046335Z",
     "iopub.status.busy": "2024-08-02T21:24:56.045887Z",
     "iopub.status.idle": "2024-08-02T21:24:56.060666Z",
     "shell.execute_reply": "2024-08-02T21:24:56.058818Z"
    },
    "papermill": {
     "duration": 0.03972,
     "end_time": "2024-08-02T21:24:56.063083",
     "exception": false,
     "start_time": "2024-08-02T21:24:56.023363",
     "status": "completed"
    },
    "tags": []
   },
   "outputs": [
    {
     "name": "stdout",
     "output_type": "stream",
     "text": [
      "Number of missing values in the training dataset column 'Age' before feature engineering is 177\n",
      "Number of missing values in the testing dataset column 'Age' before feature engineering is 86\n",
      "----------------------------------------------------------------------------------------------------\n",
      "Number of missing values in the training dataset column 'Age' after feature engineering is 0\n",
      "Number of missing values in the testing dataset column 'Age' after feature engineering is 0\n"
     ]
    }
   ],
   "source": [
    "# Training dataset \"Age\"\n",
    "train_missing_values_age_count = train_df[\"Age\"].isnull().sum()\n",
    "print(f\"Number of missing values in the training dataset column 'Age' before feature engineering is {train_missing_values_age_count}\")\n",
    "\n",
    "# Testing dataset \"Age\"\n",
    "test_missing_values_age_count = test_df[\"Age\"].isnull().sum()\n",
    "print(f\"Number of missing values in the testing dataset column 'Age' before feature engineering is {test_missing_values_age_count}\")\n",
    "\n",
    "# Filling up missing values in \"Age\" column between lower bound (mean - std) and upper bound (mean + std)\n",
    "for dataset in data:\n",
    "    mean = train_df[\"Age\"].mean()  # Calculate the mean\n",
    "    std = train_df[\"Age\"].std()  # Calculate the standard deviation\n",
    "    is_null = dataset[\"Age\"].isnull().sum()  # Calculating the total number of missing values between \"train_df\" and \"test_df\"\n",
    "\n",
    "    # Compute random numbers between the mean and std, and is_null\n",
    "    rand_age = np.random.randint(mean - std, mean + std, size = is_null)\n",
    " \n",
    "    # Fill NaN values in Age column with random values generated\n",
    "    age_slice = dataset[\"Age\"].copy()\n",
    "    age_slice[np.isnan(age_slice)] = rand_age\n",
    "    dataset[\"Age\"] = age_slice.astype(int)  # Convert to integers\n",
    "\n",
    "print(\"-\"* 100)\n",
    "\n",
    "# Training dataset \"Age\"\n",
    "train_missing_values_age_count = train_df[\"Age\"].isnull().sum()\n",
    "print(f\"Number of missing values in the training dataset column 'Age' after feature engineering is {train_missing_values_age_count}\")\n",
    "\n",
    "# Testing dataset \"Age\"\n",
    "test_missing_values_age_count = test_df[\"Age\"].isnull().sum()\n",
    "print(f\"Number of missing values in the testing dataset column 'Age' after feature engineering is {test_missing_values_age_count}\")"
   ]
  },
  {
   "cell_type": "code",
   "execution_count": 34,
   "id": "50ee6a88",
   "metadata": {
    "execution": {
     "iopub.execute_input": "2024-08-02T21:24:56.107501Z",
     "iopub.status.busy": "2024-08-02T21:24:56.107063Z",
     "iopub.status.idle": "2024-08-02T21:24:56.136193Z",
     "shell.execute_reply": "2024-08-02T21:24:56.134970Z"
    },
    "papermill": {
     "duration": 0.054579,
     "end_time": "2024-08-02T21:24:56.138957",
     "exception": false,
     "start_time": "2024-08-02T21:24:56.084378",
     "status": "completed"
    },
    "tags": []
   },
   "outputs": [],
   "source": [
    "# This block of code categorizes the 'Age' column into different age groups.\n",
    "for dataset in data:\n",
    "    dataset[\"Age\"] = dataset[\"Age\"].astype(int)\n",
    "    dataset.loc[dataset[\"Age\"] <= 11, \"Age\"] = 0\n",
    "    dataset.loc[(dataset[\"Age\"] > 11) & (dataset[\"Age\"] <= 18), \"Age\"] = 1\n",
    "    dataset.loc[(dataset[\"Age\"] > 18) & (dataset[\"Age\"] <= 22), \"Age\"] = 2\n",
    "    dataset.loc[(dataset[\"Age\"] > 22) & (dataset[\"Age\"] <= 27), \"Age\"] = 3\n",
    "    dataset.loc[(dataset[\"Age\"] > 27) & (dataset[\"Age\"] <= 33), \"Age\"] = 4\n",
    "    dataset.loc[(dataset[\"Age\"] > 33) & (dataset[\"Age\"] <= 40), \"Age\"] = 5\n",
    "    dataset.loc[(dataset[\"Age\"] > 40) & (dataset[\"Age\"] <= 66), \"Age\"] = 6\n",
    "    dataset.loc[dataset[\"Age\"] > 66, \"Age\"] = 7\n"
   ]
  },
  {
   "cell_type": "code",
   "execution_count": 35,
   "id": "11907a80",
   "metadata": {
    "execution": {
     "iopub.execute_input": "2024-08-02T21:24:56.189682Z",
     "iopub.status.busy": "2024-08-02T21:24:56.188625Z",
     "iopub.status.idle": "2024-08-02T21:24:56.198240Z",
     "shell.execute_reply": "2024-08-02T21:24:56.197203Z"
    },
    "papermill": {
     "duration": 0.035539,
     "end_time": "2024-08-02T21:24:56.200819",
     "exception": false,
     "start_time": "2024-08-02T21:24:56.165280",
     "status": "completed"
    },
    "tags": []
   },
   "outputs": [
    {
     "data": {
      "text/plain": [
       "Age\n",
       "6    158\n",
       "4    156\n",
       "5    152\n",
       "3    142\n",
       "2    111\n",
       "1     97\n",
       "0     68\n",
       "7      7\n",
       "Name: count, dtype: int64"
      ]
     },
     "execution_count": 35,
     "metadata": {},
     "output_type": "execute_result"
    }
   ],
   "source": [
    "# Checking the distribution\n",
    "train_df['Age'].value_counts()"
   ]
  },
  {
   "cell_type": "code",
   "execution_count": 36,
   "id": "5c2c58d8",
   "metadata": {
    "execution": {
     "iopub.execute_input": "2024-08-02T21:24:56.252481Z",
     "iopub.status.busy": "2024-08-02T21:24:56.251976Z",
     "iopub.status.idle": "2024-08-02T21:24:56.271371Z",
     "shell.execute_reply": "2024-08-02T21:24:56.270036Z"
    },
    "papermill": {
     "duration": 0.047773,
     "end_time": "2024-08-02T21:24:56.274568",
     "exception": false,
     "start_time": "2024-08-02T21:24:56.226795",
     "status": "completed"
    },
    "tags": []
   },
   "outputs": [
    {
     "name": "stdout",
     "output_type": "stream",
     "text": [
      "Number of missing values in the training dataset column 'Embarked' is 2\n",
      "Number of missing values in the testing dataset column 'Embarked' is 0\n",
      "Most frequent value repeated in column 'Embarked' is S\n",
      "----------------------------------------------------------------------------------------------------\n"
     ]
    },
    {
     "data": {
      "text/plain": [
       "Embarked\n",
       "0    646\n",
       "1    168\n",
       "2     77\n",
       "Name: count, dtype: int64"
      ]
     },
     "execution_count": 36,
     "metadata": {},
     "output_type": "execute_result"
    }
   ],
   "source": [
    "# Training dataset \"Embarked\"\n",
    "train_missing_values_embarked_count = train_df[\"Embarked\"].isnull().sum()\n",
    "print(f\"Number of missing values in the training dataset column 'Embarked' is {train_missing_values_embarked_count}\")\n",
    "\n",
    "# Testing dataset \"Embarked\"\n",
    "test_missing_values_embarked_count = test_df[\"Embarked\"].isnull().sum()\n",
    "print(f\"Number of missing values in the testing dataset column 'Embarked' is {test_missing_values_embarked_count}\")\n",
    "\n",
    "# Most frequent value in \"Embarked\"\n",
    "train_embarked_count = train_df[\"Embarked\"].mode()[0]\n",
    "print(f\"Most frequent value repeated in column 'Embarked' is {train_embarked_count}\")\n",
    "\n",
    "# Filling missing values with the most frequent value in column \"Embarked\"\n",
    "for dataset in data:\n",
    "    dataset[\"Embarked\"] = dataset[\"Embarked\"].fillna(\"S\")\n",
    "\n",
    "# Dictionary to map \"Embarked\" letters to numerical values\n",
    "mapping_embarked_column = {\"S\": 0, \"C\": 1, \"Q\": 2}\n",
    "\n",
    "# Map \"Embarked\" column from the dictionary \"mapping_embarked_column\"\n",
    "for dataset in data:\n",
    "  dataset[\"Embarked\"] = dataset[\"Embarked\"].map(mapping_embarked_column)\n",
    "\n",
    "print(\"-\"* 100)\n",
    "\n",
    "# Count the occurrences of each unique value in the \"Embarked\" column for training dataset\n",
    "# \"S\" is 0, \"C\" is 1, and \"Q\" is 2\n",
    "train_df[\"Embarked\"].value_counts()"
   ]
  },
  {
   "cell_type": "code",
   "execution_count": 37,
   "id": "e4341a6c",
   "metadata": {
    "execution": {
     "iopub.execute_input": "2024-08-02T21:24:56.342228Z",
     "iopub.status.busy": "2024-08-02T21:24:56.341171Z",
     "iopub.status.idle": "2024-08-02T21:24:56.357747Z",
     "shell.execute_reply": "2024-08-02T21:24:56.356544Z"
    },
    "papermill": {
     "duration": 0.053126,
     "end_time": "2024-08-02T21:24:56.360811",
     "exception": false,
     "start_time": "2024-08-02T21:24:56.307685",
     "status": "completed"
    },
    "tags": []
   },
   "outputs": [],
   "source": [
    "# Function \"data_cleaning\"\n",
    "def data_cleaning(text):\n",
    "    # Remove all special characters\n",
    "    text = re.sub(\"[^\\w\\s]\", \" \", text)\n",
    "    # Convert all text to lower case\n",
    "    text = text.lower()\n",
    "    # Condense multiple spaces into one\n",
    "    text = re.sub(\"\\s+\", \" \", text)\n",
    "    return text\n",
    "\n",
    "# Apply \"data_cleaning\" function to dataset\n",
    "for dataset in data:\n",
    "    dataset[\"clean_name\"] = dataset[\"Name\"].apply(data_cleaning)"
   ]
  },
  {
   "cell_type": "code",
   "execution_count": 38,
   "id": "c4610a9c",
   "metadata": {
    "execution": {
     "iopub.execute_input": "2024-08-02T21:24:56.414873Z",
     "iopub.status.busy": "2024-08-02T21:24:56.414371Z",
     "iopub.status.idle": "2024-08-02T21:24:56.463656Z",
     "shell.execute_reply": "2024-08-02T21:24:56.462502Z"
    },
    "papermill": {
     "duration": 0.075058,
     "end_time": "2024-08-02T21:24:56.466209",
     "exception": false,
     "start_time": "2024-08-02T21:24:56.391151",
     "status": "completed"
    },
    "tags": []
   },
   "outputs": [],
   "source": [
    "# Define column \"clean_name\" from training dataset as \"name\"\n",
    "name = train_df[\"clean_name\"]\n",
    "\n",
    "# Join the elements of the Series into a single string\n",
    "name = ' '.join(name)\n",
    "\n",
    "# Breaking strings into indivisual words\n",
    "token = word_tokenize(name)\n",
    "\n",
    "# Creating unigrams from a list of tokens (indivisual words)\n",
    "name_unigram = list(ngrams(token, 1))\n",
    "\n",
    "# Calculating the frequency distribution of unigrams\n",
    "name_unigram_freq = nltk.FreqDist(name_unigram)\n",
    "\n",
    "# Converting frequency distrubiton of unigrams into dictionary\n",
    "name_unigram_freq_dict = dict(name_unigram_freq)"
   ]
  },
  {
   "cell_type": "code",
   "execution_count": 39,
   "id": "f2ebb920",
   "metadata": {
    "execution": {
     "iopub.execute_input": "2024-08-02T21:24:56.513909Z",
     "iopub.status.busy": "2024-08-02T21:24:56.512881Z",
     "iopub.status.idle": "2024-08-02T21:24:56.531033Z",
     "shell.execute_reply": "2024-08-02T21:24:56.529902Z"
    },
    "papermill": {
     "duration": 0.045548,
     "end_time": "2024-08-02T21:24:56.533770",
     "exception": false,
     "start_time": "2024-08-02T21:24:56.488222",
     "status": "completed"
    },
    "tags": []
   },
   "outputs": [],
   "source": [
    "# Converting unigrams dictionary into a dataframe with indivisual words and count per word\n",
    "name_unigram_freq_df = pd.DataFrame({\"words\": name_unigram_freq_dict.keys() ,\"count\":  name_unigram_freq_dict.values()})\n",
    "\n",
    "# Sorting the DataFrame by word count in descending order\n",
    "name_unigram_freq_df = name_unigram_freq_df.sort_values(by = \"count\", ascending = False)\n",
    "\n",
    "# Removing special characters from column \"words\"\n",
    "name_unigram_freq_df[\"words\"] = name_unigram_freq_df[\"words\"].astype(str).str.replace(r\"[^\\w\\s]\", \"\", regex=True)"
   ]
  },
  {
   "cell_type": "code",
   "execution_count": 40,
   "id": "5c90c247",
   "metadata": {
    "execution": {
     "iopub.execute_input": "2024-08-02T21:24:56.580138Z",
     "iopub.status.busy": "2024-08-02T21:24:56.579650Z",
     "iopub.status.idle": "2024-08-02T21:24:58.284538Z",
     "shell.execute_reply": "2024-08-02T21:24:58.283384Z"
    },
    "papermill": {
     "duration": 1.731418,
     "end_time": "2024-08-02T21:24:58.287677",
     "exception": false,
     "start_time": "2024-08-02T21:24:56.556259",
     "status": "completed"
    },
    "tags": []
   },
   "outputs": [
    {
     "data": {
      "text/html": [
       "<div>\n",
       "<style scoped>\n",
       "    .dataframe tbody tr th:only-of-type {\n",
       "        vertical-align: middle;\n",
       "    }\n",
       "\n",
       "    .dataframe tbody tr th {\n",
       "        vertical-align: top;\n",
       "    }\n",
       "\n",
       "    .dataframe thead th {\n",
       "        text-align: right;\n",
       "    }\n",
       "</style>\n",
       "<table border=\"1\" class=\"dataframe\">\n",
       "  <thead>\n",
       "    <tr style=\"text-align: right;\">\n",
       "      <th></th>\n",
       "      <th>words</th>\n",
       "      <th>count</th>\n",
       "    </tr>\n",
       "  </thead>\n",
       "  <tbody>\n",
       "    <tr>\n",
       "      <th>1</th>\n",
       "      <td>mr</td>\n",
       "      <td>521</td>\n",
       "    </tr>\n",
       "    <tr>\n",
       "      <th>12</th>\n",
       "      <td>miss</td>\n",
       "      <td>182</td>\n",
       "    </tr>\n",
       "    <tr>\n",
       "      <th>5</th>\n",
       "      <td>mrs</td>\n",
       "      <td>129</td>\n",
       "    </tr>\n",
       "    <tr>\n",
       "      <th>29</th>\n",
       "      <td>master</td>\n",
       "      <td>40</td>\n",
       "    </tr>\n",
       "    <tr>\n",
       "      <th>205</th>\n",
       "      <td>jr</td>\n",
       "      <td>10</td>\n",
       "    </tr>\n",
       "    <tr>\n",
       "      <th>...</th>\n",
       "      <td>...</td>\n",
       "      <td>...</td>\n",
       "    </tr>\n",
       "    <tr>\n",
       "      <th>685</th>\n",
       "      <td>moraweck</td>\n",
       "      <td>1</td>\n",
       "    </tr>\n",
       "    <tr>\n",
       "      <th>684</th>\n",
       "      <td>sternin</td>\n",
       "      <td>1</td>\n",
       "    </tr>\n",
       "    <tr>\n",
       "      <th>681</th>\n",
       "      <td>helmina</td>\n",
       "      <td>1</td>\n",
       "    </tr>\n",
       "    <tr>\n",
       "      <th>680</th>\n",
       "      <td>nilsson</td>\n",
       "      <td>1</td>\n",
       "    </tr>\n",
       "    <tr>\n",
       "      <th>1528</th>\n",
       "      <td>dooley</td>\n",
       "      <td>1</td>\n",
       "    </tr>\n",
       "  </tbody>\n",
       "</table>\n",
       "<p>974 rows × 2 columns</p>\n",
       "</div>"
      ],
      "text/plain": [
       "         words  count\n",
       "1           mr    521\n",
       "12        miss    182\n",
       "5          mrs    129\n",
       "29      master     40\n",
       "205         jr     10\n",
       "...        ...    ...\n",
       "685   moraweck      1\n",
       "684    sternin      1\n",
       "681    helmina      1\n",
       "680    nilsson      1\n",
       "1528    dooley      1\n",
       "\n",
       "[974 rows x 2 columns]"
      ]
     },
     "execution_count": 40,
     "metadata": {},
     "output_type": "execute_result"
    }
   ],
   "source": [
    "# List of male and female names in lowercase\n",
    "all_names = set(name.lower() for name in names.words())\n",
    "\n",
    "# Function to remove English names\n",
    "def remove_names(text):\n",
    "    if not isinstance(text, str):\n",
    "        return text\n",
    "    words = text.split()\n",
    "    cleaned_words = [word for word in words if word.lower() not in [name.lower() for name in all_names]]\n",
    "    return ' '.join(cleaned_words)\n",
    "\n",
    "# Apply \"remove_names\" function to \"name_unigram_freq_df\"\n",
    "name_unigram_freq_df[\"words\"] = name_unigram_freq_df[\"words\"].apply(remove_names)\n",
    "\n",
    "# Removing all rows that contain blank entries not recognized as missing values\n",
    "name_unigram_freq_df = name_unigram_freq_df[(name_unigram_freq_df != \"\").all(axis=1)]\n",
    "name_unigram_freq_df"
   ]
  },
  {
   "cell_type": "code",
   "execution_count": 41,
   "id": "b83a2a17",
   "metadata": {
    "execution": {
     "iopub.execute_input": "2024-08-02T21:24:58.334547Z",
     "iopub.status.busy": "2024-08-02T21:24:58.333659Z",
     "iopub.status.idle": "2024-08-02T21:24:58.346153Z",
     "shell.execute_reply": "2024-08-02T21:24:58.345140Z"
    },
    "papermill": {
     "duration": 0.038137,
     "end_time": "2024-08-02T21:24:58.348488",
     "exception": false,
     "start_time": "2024-08-02T21:24:58.310351",
     "status": "completed"
    },
    "tags": []
   },
   "outputs": [],
   "source": [
    "# Top 4 words to be used as \"Titles\"\n",
    "titles = [\"Mr\",\"Miss\",\"Mrs\",\"Master\"]\n",
    "titles_mapping_column = {\"Mr\": 1, \"Miss\": 2, \"Mrs\": 3, \"Master\": 4, \"Other\": 5}\n",
    "\n",
    "# Function to extract the title\n",
    "def extract_title(name):\n",
    "    for t in titles:\n",
    "        if t in name:\n",
    "            return t\n",
    "    return \"Other\"\n",
    "\n",
    "for dataset in data:\n",
    "  dataset[\"Title\"] = dataset[\"Name\"].apply(extract_title)\n",
    "  dataset[\"Title\"] = dataset[\"Title\"].map(titles_mapping_column)\n",
    "  dataset.drop([\"Name\"], axis = 1, inplace = True)"
   ]
  },
  {
   "cell_type": "markdown",
   "id": "42d1158e",
   "metadata": {
    "papermill": {
     "duration": 0.021508,
     "end_time": "2024-08-02T21:24:58.391819",
     "exception": false,
     "start_time": "2024-08-02T21:24:58.370311",
     "status": "completed"
    },
    "tags": []
   },
   "source": [
    "# Define \"Features\" and \"Target\"\n",
    "In this section, I specified the \"Features\" and \"Target\" for X_train, y_train, X_test, and y_test.\n"
   ]
  },
  {
   "cell_type": "code",
   "execution_count": 42,
   "id": "794db575",
   "metadata": {
    "execution": {
     "iopub.execute_input": "2024-08-02T21:24:58.437110Z",
     "iopub.status.busy": "2024-08-02T21:24:58.436721Z",
     "iopub.status.idle": "2024-08-02T21:24:58.450038Z",
     "shell.execute_reply": "2024-08-02T21:24:58.448900Z"
    },
    "papermill": {
     "duration": 0.038632,
     "end_time": "2024-08-02T21:24:58.452430",
     "exception": false,
     "start_time": "2024-08-02T21:24:58.413798",
     "status": "completed"
    },
    "tags": []
   },
   "outputs": [
    {
     "name": "stdout",
     "output_type": "stream",
     "text": [
      "<class 'pandas.core.frame.DataFrame'>\n",
      "RangeIndex: 891 entries, 0 to 890\n",
      "Data columns (total 13 columns):\n",
      " #   Column      Non-Null Count  Dtype \n",
      "---  ------      --------------  ----- \n",
      " 0   Survived    891 non-null    int64 \n",
      " 1   Pclass      891 non-null    int64 \n",
      " 2   Sex         891 non-null    int64 \n",
      " 3   Age         891 non-null    int64 \n",
      " 4   SibSp       891 non-null    int64 \n",
      " 5   Parch       891 non-null    int64 \n",
      " 6   Fare        891 non-null    int64 \n",
      " 7   Embarked    891 non-null    int64 \n",
      " 8   Relatives   891 non-null    int64 \n",
      " 9   Not Alone   891 non-null    int64 \n",
      " 10  Deck        891 non-null    int64 \n",
      " 11  clean_name  891 non-null    object\n",
      " 12  Title       891 non-null    int64 \n",
      "dtypes: int64(12), object(1)\n",
      "memory usage: 90.6+ KB\n"
     ]
    }
   ],
   "source": [
    "train_df.info()"
   ]
  },
  {
   "cell_type": "code",
   "execution_count": 43,
   "id": "a89a0cc8",
   "metadata": {
    "execution": {
     "iopub.execute_input": "2024-08-02T21:24:58.499187Z",
     "iopub.status.busy": "2024-08-02T21:24:58.498783Z",
     "iopub.status.idle": "2024-08-02T21:24:58.505365Z",
     "shell.execute_reply": "2024-08-02T21:24:58.504327Z"
    },
    "papermill": {
     "duration": 0.032453,
     "end_time": "2024-08-02T21:24:58.507618",
     "exception": false,
     "start_time": "2024-08-02T21:24:58.475165",
     "status": "completed"
    },
    "tags": []
   },
   "outputs": [],
   "source": [
    "# Define \"train_X\"\n",
    "train_df = train_df.select_dtypes(exclude=[\"object\"])\n",
    "train_X = train_df.iloc[:,1:]"
   ]
  },
  {
   "cell_type": "code",
   "execution_count": 44,
   "id": "e5fe17a8",
   "metadata": {
    "execution": {
     "iopub.execute_input": "2024-08-02T21:24:58.555274Z",
     "iopub.status.busy": "2024-08-02T21:24:58.554903Z",
     "iopub.status.idle": "2024-08-02T21:24:58.566867Z",
     "shell.execute_reply": "2024-08-02T21:24:58.565858Z"
    },
    "papermill": {
     "duration": 0.037401,
     "end_time": "2024-08-02T21:24:58.568967",
     "exception": false,
     "start_time": "2024-08-02T21:24:58.531566",
     "status": "completed"
    },
    "tags": []
   },
   "outputs": [
    {
     "data": {
      "text/html": [
       "<div>\n",
       "<style scoped>\n",
       "    .dataframe tbody tr th:only-of-type {\n",
       "        vertical-align: middle;\n",
       "    }\n",
       "\n",
       "    .dataframe tbody tr th {\n",
       "        vertical-align: top;\n",
       "    }\n",
       "\n",
       "    .dataframe thead th {\n",
       "        text-align: right;\n",
       "    }\n",
       "</style>\n",
       "<table border=\"1\" class=\"dataframe\">\n",
       "  <thead>\n",
       "    <tr style=\"text-align: right;\">\n",
       "      <th></th>\n",
       "      <th>Pclass</th>\n",
       "      <th>Sex</th>\n",
       "      <th>Age</th>\n",
       "      <th>SibSp</th>\n",
       "      <th>Parch</th>\n",
       "      <th>Fare</th>\n",
       "      <th>Embarked</th>\n",
       "      <th>Relatives</th>\n",
       "      <th>Not Alone</th>\n",
       "      <th>Deck</th>\n",
       "      <th>Title</th>\n",
       "    </tr>\n",
       "  </thead>\n",
       "  <tbody>\n",
       "    <tr>\n",
       "      <th>90</th>\n",
       "      <td>3</td>\n",
       "      <td>0</td>\n",
       "      <td>4</td>\n",
       "      <td>0</td>\n",
       "      <td>0</td>\n",
       "      <td>1</td>\n",
       "      <td>0</td>\n",
       "      <td>0</td>\n",
       "      <td>1</td>\n",
       "      <td>8</td>\n",
       "      <td>1</td>\n",
       "    </tr>\n",
       "  </tbody>\n",
       "</table>\n",
       "</div>"
      ],
      "text/plain": [
       "    Pclass  Sex  Age  SibSp  Parch  Fare  Embarked  Relatives  Not Alone  \\\n",
       "90       3    0    4      0      0     1         0          0          1   \n",
       "\n",
       "    Deck  Title  \n",
       "90     8      1  "
      ]
     },
     "execution_count": 44,
     "metadata": {},
     "output_type": "execute_result"
    }
   ],
   "source": [
    "train_X.sample()"
   ]
  },
  {
   "cell_type": "code",
   "execution_count": 45,
   "id": "d5b06eae",
   "metadata": {
    "execution": {
     "iopub.execute_input": "2024-08-02T21:24:58.615237Z",
     "iopub.status.busy": "2024-08-02T21:24:58.614569Z",
     "iopub.status.idle": "2024-08-02T21:24:58.619642Z",
     "shell.execute_reply": "2024-08-02T21:24:58.618558Z"
    },
    "papermill": {
     "duration": 0.030562,
     "end_time": "2024-08-02T21:24:58.621825",
     "exception": false,
     "start_time": "2024-08-02T21:24:58.591263",
     "status": "completed"
    },
    "tags": []
   },
   "outputs": [],
   "source": [
    "# Define \"train_y\"\n",
    "train_y = train_df.iloc[:,0]"
   ]
  },
  {
   "cell_type": "code",
   "execution_count": 46,
   "id": "33966b66",
   "metadata": {
    "execution": {
     "iopub.execute_input": "2024-08-02T21:24:58.669041Z",
     "iopub.status.busy": "2024-08-02T21:24:58.668184Z",
     "iopub.status.idle": "2024-08-02T21:24:58.676936Z",
     "shell.execute_reply": "2024-08-02T21:24:58.675753Z"
    },
    "papermill": {
     "duration": 0.035359,
     "end_time": "2024-08-02T21:24:58.679432",
     "exception": false,
     "start_time": "2024-08-02T21:24:58.644073",
     "status": "completed"
    },
    "tags": []
   },
   "outputs": [
    {
     "data": {
      "text/plain": [
       "326    0\n",
       "Name: Survived, dtype: int64"
      ]
     },
     "execution_count": 46,
     "metadata": {},
     "output_type": "execute_result"
    }
   ],
   "source": [
    "train_y.sample()"
   ]
  },
  {
   "cell_type": "code",
   "execution_count": 47,
   "id": "f0362911",
   "metadata": {
    "execution": {
     "iopub.execute_input": "2024-08-02T21:24:58.727281Z",
     "iopub.status.busy": "2024-08-02T21:24:58.726863Z",
     "iopub.status.idle": "2024-08-02T21:24:58.742423Z",
     "shell.execute_reply": "2024-08-02T21:24:58.741153Z"
    },
    "papermill": {
     "duration": 0.04257,
     "end_time": "2024-08-02T21:24:58.744850",
     "exception": false,
     "start_time": "2024-08-02T21:24:58.702280",
     "status": "completed"
    },
    "tags": []
   },
   "outputs": [
    {
     "name": "stdout",
     "output_type": "stream",
     "text": [
      "<class 'pandas.core.frame.DataFrame'>\n",
      "RangeIndex: 418 entries, 0 to 417\n",
      "Data columns (total 13 columns):\n",
      " #   Column      Non-Null Count  Dtype \n",
      "---  ------      --------------  ----- \n",
      " 0   Survived    418 non-null    int64 \n",
      " 1   Pclass      418 non-null    int64 \n",
      " 2   Sex         418 non-null    int64 \n",
      " 3   Age         418 non-null    int64 \n",
      " 4   SibSp       418 non-null    int64 \n",
      " 5   Parch       418 non-null    int64 \n",
      " 6   Fare        418 non-null    int64 \n",
      " 7   Embarked    418 non-null    int64 \n",
      " 8   Relatives   418 non-null    int64 \n",
      " 9   Not Alone   418 non-null    int64 \n",
      " 10  Deck        418 non-null    int64 \n",
      " 11  clean_name  418 non-null    object\n",
      " 12  Title       418 non-null    int64 \n",
      "dtypes: int64(12), object(1)\n",
      "memory usage: 42.6+ KB\n"
     ]
    }
   ],
   "source": [
    "test_df.info()"
   ]
  },
  {
   "cell_type": "code",
   "execution_count": 48,
   "id": "87accbdf",
   "metadata": {
    "execution": {
     "iopub.execute_input": "2024-08-02T21:24:58.792347Z",
     "iopub.status.busy": "2024-08-02T21:24:58.791927Z",
     "iopub.status.idle": "2024-08-02T21:24:58.799137Z",
     "shell.execute_reply": "2024-08-02T21:24:58.797955Z"
    },
    "papermill": {
     "duration": 0.034498,
     "end_time": "2024-08-02T21:24:58.801983",
     "exception": false,
     "start_time": "2024-08-02T21:24:58.767485",
     "status": "completed"
    },
    "tags": []
   },
   "outputs": [],
   "source": [
    "# Define \"test_X\"\n",
    "test_df = test_df.select_dtypes(exclude=[\"object\"])\n",
    "test_X = test_df.iloc[:,1:]"
   ]
  },
  {
   "cell_type": "code",
   "execution_count": 49,
   "id": "af9d1c18",
   "metadata": {
    "execution": {
     "iopub.execute_input": "2024-08-02T21:24:58.849775Z",
     "iopub.status.busy": "2024-08-02T21:24:58.849371Z",
     "iopub.status.idle": "2024-08-02T21:24:58.862480Z",
     "shell.execute_reply": "2024-08-02T21:24:58.861306Z"
    },
    "papermill": {
     "duration": 0.039764,
     "end_time": "2024-08-02T21:24:58.864863",
     "exception": false,
     "start_time": "2024-08-02T21:24:58.825099",
     "status": "completed"
    },
    "tags": []
   },
   "outputs": [
    {
     "data": {
      "text/html": [
       "<div>\n",
       "<style scoped>\n",
       "    .dataframe tbody tr th:only-of-type {\n",
       "        vertical-align: middle;\n",
       "    }\n",
       "\n",
       "    .dataframe tbody tr th {\n",
       "        vertical-align: top;\n",
       "    }\n",
       "\n",
       "    .dataframe thead th {\n",
       "        text-align: right;\n",
       "    }\n",
       "</style>\n",
       "<table border=\"1\" class=\"dataframe\">\n",
       "  <thead>\n",
       "    <tr style=\"text-align: right;\">\n",
       "      <th></th>\n",
       "      <th>Pclass</th>\n",
       "      <th>Sex</th>\n",
       "      <th>Age</th>\n",
       "      <th>SibSp</th>\n",
       "      <th>Parch</th>\n",
       "      <th>Fare</th>\n",
       "      <th>Embarked</th>\n",
       "      <th>Relatives</th>\n",
       "      <th>Not Alone</th>\n",
       "      <th>Deck</th>\n",
       "      <th>Title</th>\n",
       "    </tr>\n",
       "  </thead>\n",
       "  <tbody>\n",
       "    <tr>\n",
       "      <th>226</th>\n",
       "      <td>3</td>\n",
       "      <td>0</td>\n",
       "      <td>3</td>\n",
       "      <td>0</td>\n",
       "      <td>0</td>\n",
       "      <td>0</td>\n",
       "      <td>0</td>\n",
       "      <td>0</td>\n",
       "      <td>1</td>\n",
       "      <td>8</td>\n",
       "      <td>1</td>\n",
       "    </tr>\n",
       "  </tbody>\n",
       "</table>\n",
       "</div>"
      ],
      "text/plain": [
       "     Pclass  Sex  Age  SibSp  Parch  Fare  Embarked  Relatives  Not Alone  \\\n",
       "226       3    0    3      0      0     0         0          0          1   \n",
       "\n",
       "     Deck  Title  \n",
       "226     8      1  "
      ]
     },
     "execution_count": 49,
     "metadata": {},
     "output_type": "execute_result"
    }
   ],
   "source": [
    "test_X.sample()"
   ]
  },
  {
   "cell_type": "code",
   "execution_count": 50,
   "id": "0e3b353d",
   "metadata": {
    "execution": {
     "iopub.execute_input": "2024-08-02T21:24:58.912519Z",
     "iopub.status.busy": "2024-08-02T21:24:58.912111Z",
     "iopub.status.idle": "2024-08-02T21:24:58.917066Z",
     "shell.execute_reply": "2024-08-02T21:24:58.915967Z"
    },
    "papermill": {
     "duration": 0.031507,
     "end_time": "2024-08-02T21:24:58.919174",
     "exception": false,
     "start_time": "2024-08-02T21:24:58.887667",
     "status": "completed"
    },
    "tags": []
   },
   "outputs": [],
   "source": [
    "# Define \"test_y\"\n",
    "test_y = test_df.iloc[:,0]"
   ]
  },
  {
   "cell_type": "code",
   "execution_count": 51,
   "id": "c042fbff",
   "metadata": {
    "execution": {
     "iopub.execute_input": "2024-08-02T21:24:58.966366Z",
     "iopub.status.busy": "2024-08-02T21:24:58.965970Z",
     "iopub.status.idle": "2024-08-02T21:24:58.973911Z",
     "shell.execute_reply": "2024-08-02T21:24:58.972773Z"
    },
    "papermill": {
     "duration": 0.033727,
     "end_time": "2024-08-02T21:24:58.976129",
     "exception": false,
     "start_time": "2024-08-02T21:24:58.942402",
     "status": "completed"
    },
    "tags": []
   },
   "outputs": [
    {
     "data": {
      "text/plain": [
       "162    1\n",
       "Name: Survived, dtype: int64"
      ]
     },
     "execution_count": 51,
     "metadata": {},
     "output_type": "execute_result"
    }
   ],
   "source": [
    "test_y.sample()"
   ]
  },
  {
   "cell_type": "markdown",
   "id": "9f0d43b2",
   "metadata": {
    "papermill": {
     "duration": 0.022542,
     "end_time": "2024-08-02T21:24:59.021538",
     "exception": false,
     "start_time": "2024-08-02T21:24:58.998996",
     "status": "completed"
    },
    "tags": []
   },
   "source": [
    "# Model Building\n",
    "The lazy predict library is used to evaluate various models' performance using default settings, measuring metrics such as accuracy, balanced accuracy, ROC AUC, and F1 score. In this evaluation, the **RidgeClassifierCV ** emerged as the best-performing model."
   ]
  },
  {
   "cell_type": "code",
   "execution_count": 52,
   "id": "5681c9f9",
   "metadata": {
    "execution": {
     "iopub.execute_input": "2024-08-02T21:24:59.068978Z",
     "iopub.status.busy": "2024-08-02T21:24:59.068576Z",
     "iopub.status.idle": "2024-08-02T21:25:12.923696Z",
     "shell.execute_reply": "2024-08-02T21:25:12.922278Z"
    },
    "papermill": {
     "duration": 13.881957,
     "end_time": "2024-08-02T21:25:12.926429",
     "exception": false,
     "start_time": "2024-08-02T21:24:59.044472",
     "status": "completed"
    },
    "tags": []
   },
   "outputs": [
    {
     "name": "stdout",
     "output_type": "stream",
     "text": [
      "Collecting lazypredict\r\n",
      "  Downloading lazypredict-0.2.12-py2.py3-none-any.whl.metadata (12 kB)\r\n",
      "Requirement already satisfied: click in /opt/conda/lib/python3.10/site-packages (from lazypredict) (8.1.7)\r\n",
      "Requirement already satisfied: scikit-learn in /opt/conda/lib/python3.10/site-packages (from lazypredict) (1.2.2)\r\n",
      "Requirement already satisfied: pandas in /opt/conda/lib/python3.10/site-packages (from lazypredict) (2.2.2)\r\n",
      "Requirement already satisfied: tqdm in /opt/conda/lib/python3.10/site-packages (from lazypredict) (4.66.4)\r\n",
      "Requirement already satisfied: joblib in /opt/conda/lib/python3.10/site-packages (from lazypredict) (1.4.2)\r\n",
      "Requirement already satisfied: lightgbm in /opt/conda/lib/python3.10/site-packages (from lazypredict) (4.2.0)\r\n",
      "Requirement already satisfied: xgboost in /opt/conda/lib/python3.10/site-packages (from lazypredict) (2.0.3)\r\n",
      "Requirement already satisfied: numpy in /opt/conda/lib/python3.10/site-packages (from lightgbm->lazypredict) (1.26.4)\r\n",
      "Requirement already satisfied: scipy in /opt/conda/lib/python3.10/site-packages (from lightgbm->lazypredict) (1.11.4)\r\n",
      "Requirement already satisfied: python-dateutil>=2.8.2 in /opt/conda/lib/python3.10/site-packages (from pandas->lazypredict) (2.9.0.post0)\r\n",
      "Requirement already satisfied: pytz>=2020.1 in /opt/conda/lib/python3.10/site-packages (from pandas->lazypredict) (2023.3.post1)\r\n",
      "Requirement already satisfied: tzdata>=2022.7 in /opt/conda/lib/python3.10/site-packages (from pandas->lazypredict) (2023.4)\r\n",
      "Requirement already satisfied: threadpoolctl>=2.0.0 in /opt/conda/lib/python3.10/site-packages (from scikit-learn->lazypredict) (3.2.0)\r\n",
      "Requirement already satisfied: six>=1.5 in /opt/conda/lib/python3.10/site-packages (from python-dateutil>=2.8.2->pandas->lazypredict) (1.16.0)\r\n",
      "Downloading lazypredict-0.2.12-py2.py3-none-any.whl (12 kB)\r\n",
      "Installing collected packages: lazypredict\r\n",
      "Successfully installed lazypredict-0.2.12\r\n"
     ]
    }
   ],
   "source": [
    "# Install Lazy Predict\n",
    "!pip install lazypredict"
   ]
  },
  {
   "cell_type": "code",
   "execution_count": 53,
   "id": "cb59406b",
   "metadata": {
    "execution": {
     "iopub.execute_input": "2024-08-02T21:25:12.976019Z",
     "iopub.status.busy": "2024-08-02T21:25:12.975593Z",
     "iopub.status.idle": "2024-08-02T21:25:17.763046Z",
     "shell.execute_reply": "2024-08-02T21:25:17.761865Z"
    },
    "papermill": {
     "duration": 4.816376,
     "end_time": "2024-08-02T21:25:17.766477",
     "exception": false,
     "start_time": "2024-08-02T21:25:12.950101",
     "status": "completed"
    },
    "tags": []
   },
   "outputs": [
    {
     "name": "stderr",
     "output_type": "stream",
     "text": [
      "100%|██████████| 29/29 [00:02<00:00, 11.39it/s]"
     ]
    },
    {
     "name": "stdout",
     "output_type": "stream",
     "text": [
      "[LightGBM] [Info] Number of positive: 342, number of negative: 549\n",
      "[LightGBM] [Info] Auto-choosing row-wise multi-threading, the overhead of testing was 0.002064 seconds.\n",
      "You can set `force_row_wise=true` to remove the overhead.\n",
      "And if memory is not enough, you can set `force_col_wise=true`.\n",
      "[LightGBM] [Info] Total Bins 70\n",
      "[LightGBM] [Info] Number of data points in the train set: 891, number of used features: 11\n",
      "[LightGBM] [Info] [binary:BoostFromScore]: pavg=0.383838 -> initscore=-0.473288\n",
      "[LightGBM] [Info] Start training from score -0.473288\n",
      "[LightGBM] [Warning] No further splits with positive gain, best gain: -inf\n",
      "[LightGBM] [Warning] No further splits with positive gain, best gain: -inf\n",
      "[LightGBM] [Warning] No further splits with positive gain, best gain: -inf\n",
      "[LightGBM] [Warning] No further splits with positive gain, best gain: -inf\n",
      "[LightGBM] [Warning] No further splits with positive gain, best gain: -inf\n",
      "[LightGBM] [Warning] No further splits with positive gain, best gain: -inf\n",
      "[LightGBM] [Warning] No further splits with positive gain, best gain: -inf\n",
      "[LightGBM] [Warning] No further splits with positive gain, best gain: -inf\n",
      "[LightGBM] [Warning] No further splits with positive gain, best gain: -inf\n",
      "[LightGBM] [Warning] No further splits with positive gain, best gain: -inf\n",
      "[LightGBM] [Warning] No further splits with positive gain, best gain: -inf\n",
      "[LightGBM] [Warning] No further splits with positive gain, best gain: -inf\n",
      "[LightGBM] [Warning] No further splits with positive gain, best gain: -inf\n",
      "[LightGBM] [Warning] No further splits with positive gain, best gain: -inf\n",
      "[LightGBM] [Warning] No further splits with positive gain, best gain: -inf\n"
     ]
    },
    {
     "name": "stderr",
     "output_type": "stream",
     "text": [
      "\n"
     ]
    },
    {
     "data": {
      "text/html": [
       "<div>\n",
       "<style scoped>\n",
       "    .dataframe tbody tr th:only-of-type {\n",
       "        vertical-align: middle;\n",
       "    }\n",
       "\n",
       "    .dataframe tbody tr th {\n",
       "        vertical-align: top;\n",
       "    }\n",
       "\n",
       "    .dataframe thead th {\n",
       "        text-align: right;\n",
       "    }\n",
       "</style>\n",
       "<table border=\"1\" class=\"dataframe\">\n",
       "  <thead>\n",
       "    <tr style=\"text-align: right;\">\n",
       "      <th></th>\n",
       "      <th>Accuracy</th>\n",
       "      <th>Balanced Accuracy</th>\n",
       "      <th>ROC AUC</th>\n",
       "      <th>F1 Score</th>\n",
       "      <th>Time Taken</th>\n",
       "    </tr>\n",
       "    <tr>\n",
       "      <th>Model</th>\n",
       "      <th></th>\n",
       "      <th></th>\n",
       "      <th></th>\n",
       "      <th></th>\n",
       "      <th></th>\n",
       "    </tr>\n",
       "  </thead>\n",
       "  <tbody>\n",
       "    <tr>\n",
       "      <th>LinearDiscriminantAnalysis</th>\n",
       "      <td>0.98</td>\n",
       "      <td>0.98</td>\n",
       "      <td>0.98</td>\n",
       "      <td>0.98</td>\n",
       "      <td>0.11</td>\n",
       "    </tr>\n",
       "    <tr>\n",
       "      <th>RidgeClassifierCV</th>\n",
       "      <td>0.98</td>\n",
       "      <td>0.98</td>\n",
       "      <td>0.98</td>\n",
       "      <td>0.98</td>\n",
       "      <td>0.11</td>\n",
       "    </tr>\n",
       "    <tr>\n",
       "      <th>RidgeClassifier</th>\n",
       "      <td>0.98</td>\n",
       "      <td>0.98</td>\n",
       "      <td>0.98</td>\n",
       "      <td>0.98</td>\n",
       "      <td>0.08</td>\n",
       "    </tr>\n",
       "    <tr>\n",
       "      <th>CalibratedClassifierCV</th>\n",
       "      <td>0.97</td>\n",
       "      <td>0.97</td>\n",
       "      <td>0.97</td>\n",
       "      <td>0.97</td>\n",
       "      <td>0.27</td>\n",
       "    </tr>\n",
       "    <tr>\n",
       "      <th>LinearSVC</th>\n",
       "      <td>0.97</td>\n",
       "      <td>0.97</td>\n",
       "      <td>0.97</td>\n",
       "      <td>0.97</td>\n",
       "      <td>0.12</td>\n",
       "    </tr>\n",
       "    <tr>\n",
       "      <th>NuSVC</th>\n",
       "      <td>0.95</td>\n",
       "      <td>0.95</td>\n",
       "      <td>0.95</td>\n",
       "      <td>0.95</td>\n",
       "      <td>0.08</td>\n",
       "    </tr>\n",
       "    <tr>\n",
       "      <th>LogisticRegression</th>\n",
       "      <td>0.95</td>\n",
       "      <td>0.95</td>\n",
       "      <td>0.95</td>\n",
       "      <td>0.95</td>\n",
       "      <td>0.08</td>\n",
       "    </tr>\n",
       "    <tr>\n",
       "      <th>SVC</th>\n",
       "      <td>0.94</td>\n",
       "      <td>0.94</td>\n",
       "      <td>0.94</td>\n",
       "      <td>0.94</td>\n",
       "      <td>0.05</td>\n",
       "    </tr>\n",
       "    <tr>\n",
       "      <th>QuadraticDiscriminantAnalysis</th>\n",
       "      <td>0.91</td>\n",
       "      <td>0.93</td>\n",
       "      <td>0.93</td>\n",
       "      <td>0.92</td>\n",
       "      <td>0.03</td>\n",
       "    </tr>\n",
       "    <tr>\n",
       "      <th>AdaBoostClassifier</th>\n",
       "      <td>0.90</td>\n",
       "      <td>0.91</td>\n",
       "      <td>0.91</td>\n",
       "      <td>0.90</td>\n",
       "      <td>0.13</td>\n",
       "    </tr>\n",
       "    <tr>\n",
       "      <th>Perceptron</th>\n",
       "      <td>0.86</td>\n",
       "      <td>0.86</td>\n",
       "      <td>0.86</td>\n",
       "      <td>0.86</td>\n",
       "      <td>0.02</td>\n",
       "    </tr>\n",
       "    <tr>\n",
       "      <th>KNeighborsClassifier</th>\n",
       "      <td>0.86</td>\n",
       "      <td>0.85</td>\n",
       "      <td>0.85</td>\n",
       "      <td>0.86</td>\n",
       "      <td>0.04</td>\n",
       "    </tr>\n",
       "    <tr>\n",
       "      <th>LGBMClassifier</th>\n",
       "      <td>0.86</td>\n",
       "      <td>0.85</td>\n",
       "      <td>0.85</td>\n",
       "      <td>0.86</td>\n",
       "      <td>0.11</td>\n",
       "    </tr>\n",
       "    <tr>\n",
       "      <th>SGDClassifier</th>\n",
       "      <td>0.88</td>\n",
       "      <td>0.85</td>\n",
       "      <td>0.85</td>\n",
       "      <td>0.87</td>\n",
       "      <td>0.07</td>\n",
       "    </tr>\n",
       "    <tr>\n",
       "      <th>GaussianNB</th>\n",
       "      <td>0.83</td>\n",
       "      <td>0.85</td>\n",
       "      <td>0.85</td>\n",
       "      <td>0.83</td>\n",
       "      <td>0.02</td>\n",
       "    </tr>\n",
       "    <tr>\n",
       "      <th>RandomForestClassifier</th>\n",
       "      <td>0.85</td>\n",
       "      <td>0.84</td>\n",
       "      <td>0.84</td>\n",
       "      <td>0.85</td>\n",
       "      <td>0.24</td>\n",
       "    </tr>\n",
       "    <tr>\n",
       "      <th>XGBClassifier</th>\n",
       "      <td>0.85</td>\n",
       "      <td>0.84</td>\n",
       "      <td>0.84</td>\n",
       "      <td>0.85</td>\n",
       "      <td>0.11</td>\n",
       "    </tr>\n",
       "    <tr>\n",
       "      <th>DecisionTreeClassifier</th>\n",
       "      <td>0.84</td>\n",
       "      <td>0.82</td>\n",
       "      <td>0.82</td>\n",
       "      <td>0.84</td>\n",
       "      <td>0.02</td>\n",
       "    </tr>\n",
       "    <tr>\n",
       "      <th>ExtraTreesClassifier</th>\n",
       "      <td>0.84</td>\n",
       "      <td>0.82</td>\n",
       "      <td>0.82</td>\n",
       "      <td>0.84</td>\n",
       "      <td>0.21</td>\n",
       "    </tr>\n",
       "    <tr>\n",
       "      <th>LabelSpreading</th>\n",
       "      <td>0.82</td>\n",
       "      <td>0.81</td>\n",
       "      <td>0.81</td>\n",
       "      <td>0.82</td>\n",
       "      <td>0.25</td>\n",
       "    </tr>\n",
       "    <tr>\n",
       "      <th>LabelPropagation</th>\n",
       "      <td>0.82</td>\n",
       "      <td>0.81</td>\n",
       "      <td>0.81</td>\n",
       "      <td>0.82</td>\n",
       "      <td>0.19</td>\n",
       "    </tr>\n",
       "    <tr>\n",
       "      <th>BaggingClassifier</th>\n",
       "      <td>0.82</td>\n",
       "      <td>0.81</td>\n",
       "      <td>0.81</td>\n",
       "      <td>0.82</td>\n",
       "      <td>0.05</td>\n",
       "    </tr>\n",
       "    <tr>\n",
       "      <th>PassiveAggressiveClassifier</th>\n",
       "      <td>0.78</td>\n",
       "      <td>0.79</td>\n",
       "      <td>0.79</td>\n",
       "      <td>0.78</td>\n",
       "      <td>0.02</td>\n",
       "    </tr>\n",
       "    <tr>\n",
       "      <th>BernoulliNB</th>\n",
       "      <td>0.80</td>\n",
       "      <td>0.78</td>\n",
       "      <td>0.78</td>\n",
       "      <td>0.80</td>\n",
       "      <td>0.02</td>\n",
       "    </tr>\n",
       "    <tr>\n",
       "      <th>NearestCentroid</th>\n",
       "      <td>0.77</td>\n",
       "      <td>0.77</td>\n",
       "      <td>0.77</td>\n",
       "      <td>0.77</td>\n",
       "      <td>0.06</td>\n",
       "    </tr>\n",
       "    <tr>\n",
       "      <th>ExtraTreeClassifier</th>\n",
       "      <td>0.78</td>\n",
       "      <td>0.76</td>\n",
       "      <td>0.76</td>\n",
       "      <td>0.78</td>\n",
       "      <td>0.02</td>\n",
       "    </tr>\n",
       "    <tr>\n",
       "      <th>DummyClassifier</th>\n",
       "      <td>0.64</td>\n",
       "      <td>0.50</td>\n",
       "      <td>0.50</td>\n",
       "      <td>0.49</td>\n",
       "      <td>0.01</td>\n",
       "    </tr>\n",
       "  </tbody>\n",
       "</table>\n",
       "</div>"
      ],
      "text/plain": [
       "                               Accuracy  Balanced Accuracy  ROC AUC  F1 Score  \\\n",
       "Model                                                                           \n",
       "LinearDiscriminantAnalysis         0.98               0.98     0.98      0.98   \n",
       "RidgeClassifierCV                  0.98               0.98     0.98      0.98   \n",
       "RidgeClassifier                    0.98               0.98     0.98      0.98   \n",
       "CalibratedClassifierCV             0.97               0.97     0.97      0.97   \n",
       "LinearSVC                          0.97               0.97     0.97      0.97   \n",
       "NuSVC                              0.95               0.95     0.95      0.95   \n",
       "LogisticRegression                 0.95               0.95     0.95      0.95   \n",
       "SVC                                0.94               0.94     0.94      0.94   \n",
       "QuadraticDiscriminantAnalysis      0.91               0.93     0.93      0.92   \n",
       "AdaBoostClassifier                 0.90               0.91     0.91      0.90   \n",
       "Perceptron                         0.86               0.86     0.86      0.86   \n",
       "KNeighborsClassifier               0.86               0.85     0.85      0.86   \n",
       "LGBMClassifier                     0.86               0.85     0.85      0.86   \n",
       "SGDClassifier                      0.88               0.85     0.85      0.87   \n",
       "GaussianNB                         0.83               0.85     0.85      0.83   \n",
       "RandomForestClassifier             0.85               0.84     0.84      0.85   \n",
       "XGBClassifier                      0.85               0.84     0.84      0.85   \n",
       "DecisionTreeClassifier             0.84               0.82     0.82      0.84   \n",
       "ExtraTreesClassifier               0.84               0.82     0.82      0.84   \n",
       "LabelSpreading                     0.82               0.81     0.81      0.82   \n",
       "LabelPropagation                   0.82               0.81     0.81      0.82   \n",
       "BaggingClassifier                  0.82               0.81     0.81      0.82   \n",
       "PassiveAggressiveClassifier        0.78               0.79     0.79      0.78   \n",
       "BernoulliNB                        0.80               0.78     0.78      0.80   \n",
       "NearestCentroid                    0.77               0.77     0.77      0.77   \n",
       "ExtraTreeClassifier                0.78               0.76     0.76      0.78   \n",
       "DummyClassifier                    0.64               0.50     0.50      0.49   \n",
       "\n",
       "                               Time Taken  \n",
       "Model                                      \n",
       "LinearDiscriminantAnalysis           0.11  \n",
       "RidgeClassifierCV                    0.11  \n",
       "RidgeClassifier                      0.08  \n",
       "CalibratedClassifierCV               0.27  \n",
       "LinearSVC                            0.12  \n",
       "NuSVC                                0.08  \n",
       "LogisticRegression                   0.08  \n",
       "SVC                                  0.05  \n",
       "QuadraticDiscriminantAnalysis        0.03  \n",
       "AdaBoostClassifier                   0.13  \n",
       "Perceptron                           0.02  \n",
       "KNeighborsClassifier                 0.04  \n",
       "LGBMClassifier                       0.11  \n",
       "SGDClassifier                        0.07  \n",
       "GaussianNB                           0.02  \n",
       "RandomForestClassifier               0.24  \n",
       "XGBClassifier                        0.11  \n",
       "DecisionTreeClassifier               0.02  \n",
       "ExtraTreesClassifier                 0.21  \n",
       "LabelSpreading                       0.25  \n",
       "LabelPropagation                     0.19  \n",
       "BaggingClassifier                    0.05  \n",
       "PassiveAggressiveClassifier          0.02  \n",
       "BernoulliNB                          0.02  \n",
       "NearestCentroid                      0.06  \n",
       "ExtraTreeClassifier                  0.02  \n",
       "DummyClassifier                      0.01  "
      ]
     },
     "execution_count": 53,
     "metadata": {},
     "output_type": "execute_result"
    }
   ],
   "source": [
    "# Import the Lazy Classifier\n",
    "from lazypredict.Supervised import LazyClassifier\n",
    "\n",
    "# Initialize LazyClassifier to automatically train multiple classification models and compare their performance\n",
    "classifier = LazyClassifier(random_state = 42)\n",
    "\n",
    "# Fit the classifier on the training data and make predictions on the test data\n",
    "models, predictions = classifier.fit(train_X, test_X, train_y, test_y)\n",
    "\n",
    "# Display the performance of each model\n",
    "models"
   ]
  },
  {
   "cell_type": "markdown",
   "id": "b8e86da5",
   "metadata": {
    "papermill": {
     "duration": 0.024858,
     "end_time": "2024-08-02T21:25:17.815918",
     "exception": false,
     "start_time": "2024-08-02T21:25:17.791060",
     "status": "completed"
    },
    "tags": []
   },
   "source": [
    "# RidgeClassifierCV"
   ]
  },
  {
   "cell_type": "code",
   "execution_count": 54,
   "id": "90b35aba",
   "metadata": {
    "execution": {
     "iopub.execute_input": "2024-08-02T21:25:17.867652Z",
     "iopub.status.busy": "2024-08-02T21:25:17.867037Z",
     "iopub.status.idle": "2024-08-02T21:25:18.014736Z",
     "shell.execute_reply": "2024-08-02T21:25:18.011878Z"
    },
    "papermill": {
     "duration": 0.176305,
     "end_time": "2024-08-02T21:25:18.017070",
     "exception": false,
     "start_time": "2024-08-02T21:25:17.840765",
     "status": "completed"
    },
    "tags": []
   },
   "outputs": [
    {
     "name": "stdout",
     "output_type": "stream",
     "text": [
      "Accuracy: 0.9784688995215312\n",
      "Precision: 0.9673202614379085\n",
      "Recall: 0.9736842105263158\n",
      "F1 Score: 0.9704918032786886\n",
      "Matthews Correlation Coefficient (MCC): 0.9535556414979796\n",
      "Confusion Matrix:\n",
      " [[261   5]\n",
      " [  4 148]]\n"
     ]
    }
   ],
   "source": [
    "# Import RidgeClassifierCV\n",
    "from sklearn.linear_model import RidgeClassifierCV\n",
    "\n",
    "# Define RidgeClassifierCV \n",
    "model = RidgeClassifierCV()\n",
    "\n",
    "# Fit the Model to the training data\n",
    "model.fit(train_X, train_y)\n",
    "\n",
    "# Make predictions on the test data\n",
    "y_predict = model.predict(test_X)\n",
    "\n",
    "# Import the metrics\n",
    "from sklearn.metrics import accuracy_score, precision_score, recall_score, f1_score, confusion_matrix, matthews_corrcoef\n",
    "\n",
    "# Calculate \n",
    "accuracy = accuracy_score(test_y, y_predict)\n",
    "precision = precision_score(test_y, y_predict)\n",
    "recall = recall_score(test_y, y_predict)\n",
    "f1 = f1_score(test_y, y_predict)\n",
    "mcc = matthews_corrcoef(test_y, y_predict)\n",
    "conf_matrix = confusion_matrix(test_y, y_predict)\n",
    "\n",
    "# Print the metrics\n",
    "print(\"Accuracy:\", accuracy)\n",
    "print(\"Precision:\", precision)\n",
    "print(\"Recall:\", recall)\n",
    "print(\"F1 Score:\", f1)\n",
    "print(\"Matthews Correlation Coefficient (MCC):\", mcc)\n",
    "print(\"Confusion Matrix:\\n\", conf_matrix)"
   ]
  },
  {
   "cell_type": "code",
   "execution_count": 55,
   "id": "226539f4",
   "metadata": {
    "execution": {
     "iopub.execute_input": "2024-08-02T21:25:18.070392Z",
     "iopub.status.busy": "2024-08-02T21:25:18.069973Z",
     "iopub.status.idle": "2024-08-02T21:25:18.414310Z",
     "shell.execute_reply": "2024-08-02T21:25:18.413077Z"
    },
    "papermill": {
     "duration": 0.373834,
     "end_time": "2024-08-02T21:25:18.416620",
     "exception": false,
     "start_time": "2024-08-02T21:25:18.042786",
     "status": "completed"
    },
    "tags": []
   },
   "outputs": [
    {
     "data": {
      "text/plain": [
       "Text(0, 0.5, 'True Label')"
      ]
     },
     "execution_count": 55,
     "metadata": {},
     "output_type": "execute_result"
    },
    {
     "data": {
      "image/png": "[encoded data removed]",
      "text/plain": [
       "<Figure size 640x480 with 2 Axes>"
      ]
     },
     "metadata": {},
     "output_type": "display_data"
    }
   ],
   "source": [
    "from sklearn.metrics import confusion_matrix, ConfusionMatrixDisplay\n",
    "\n",
    "# Calculate the confusion matrix for the test set predictions\n",
    "cm = confusion_matrix(test_y, y_predict)\n",
    "\n",
    "# Get the class labels from the model\n",
    "labels = model.classes_\n",
    "\n",
    "# Create a ConfusionMatrixDisplay object with the calculated confusion matrix and class labels\n",
    "matrix = ConfusionMatrixDisplay(confusion_matrix = cm, display_labels = labels)\n",
    "\n",
    "# Plot the confusion matrix\n",
    "matrix.plot()\n",
    "matrix.ax_.set_title(\"Confusion Matrix\")\n",
    "plt.xlabel(\"Predicted Label\")\n",
    "plt.ylabel(\"True Label\")"
   ]
  },
  {
   "cell_type": "markdown",
   "id": "c61f1baa",
   "metadata": {
    "papermill": {
     "duration": 0.024841,
     "end_time": "2024-08-02T21:25:18.466636",
     "exception": false,
     "start_time": "2024-08-02T21:25:18.441795",
     "status": "completed"
    },
    "tags": []
   },
   "source": [
    "# Submission"
   ]
  },
  {
   "cell_type": "code",
   "execution_count": 56,
   "id": "1aa12867",
   "metadata": {
    "execution": {
     "iopub.execute_input": "2024-08-02T21:25:18.519787Z",
     "iopub.status.busy": "2024-08-02T21:25:18.519373Z",
     "iopub.status.idle": "2024-08-02T21:25:18.526244Z",
     "shell.execute_reply": "2024-08-02T21:25:18.525376Z"
    },
    "papermill": {
     "duration": 0.035807,
     "end_time": "2024-08-02T21:25:18.528356",
     "exception": false,
     "start_time": "2024-08-02T21:25:18.492549",
     "status": "completed"
    },
    "tags": []
   },
   "outputs": [],
   "source": [
    "# Import gender submission file\n",
    "gender_submission = pd.read_csv(\"/kaggle/input/titanic/gender_submission.csv\")"
   ]
  },
  {
   "cell_type": "code",
   "execution_count": 57,
   "id": "1e86b81a",
   "metadata": {
    "execution": {
     "iopub.execute_input": "2024-08-02T21:25:18.581684Z",
     "iopub.status.busy": "2024-08-02T21:25:18.581274Z",
     "iopub.status.idle": "2024-08-02T21:25:18.593207Z",
     "shell.execute_reply": "2024-08-02T21:25:18.592172Z"
    },
    "papermill": {
     "duration": 0.041078,
     "end_time": "2024-08-02T21:25:18.595394",
     "exception": false,
     "start_time": "2024-08-02T21:25:18.554316",
     "status": "completed"
    },
    "tags": []
   },
   "outputs": [],
   "source": [
    "submission = pd.DataFrame()\n",
    "\n",
    "PassengerId = gender_submission[\"PassengerId\"]\n",
    "submission[\"PassengerId\"] = PassengerId\n",
    "submission['Survived'] = y_predict\n",
    "\n",
    "submission.head()\n",
    "submission.to_csv(\"Submission.csv\", index=False)"
   ]
  },
  {
   "cell_type": "markdown",
   "id": "917b0bb3",
   "metadata": {
    "papermill": {
     "duration": 0.024802,
     "end_time": "2024-08-02T21:25:18.646254",
     "exception": false,
     "start_time": "2024-08-02T21:25:18.621452",
     "status": "completed"
    },
    "tags": []
   },
   "source": [
    "# "
   ]
  }
 ],
 "metadata": {
  "kaggle": {
   "accelerator": "none",
   "dataSources": [
    {
     "databundleVersionId": 26502,
     "sourceId": 3136,
     "sourceType": "competition"
    }
   ],
   "dockerImageVersionId": 30746,
   "isGpuEnabled": false,
   "isInternetEnabled": true,
   "language": "python",
   "sourceType": "notebook"
  },
  "kernelspec": {
   "display_name": "Python 3",
   "language": "python",
   "name": "python3"
  },
  "language_info": {
   "codemirror_mode": {
    "name": "ipython",
    "version": 3
   },
   "file_extension": ".py",
   "mimetype": "text/x-python",
   "name": "python",
   "nbconvert_exporter": "python",
   "pygments_lexer": "ipython3",
   "version": "3.10.13"
  },
  "papermill": {
   "default_parameters": {},
   "duration": 34.759185,
   "end_time": "2024-08-02T21:25:19.595450",
   "environment_variables": {},
   "exception": null,
   "input_path": "__notebook__.ipynb",
   "output_path": "__notebook__.ipynb",
   "parameters": {},
   "start_time": "2024-08-02T21:24:44.836265",
   "version": "2.5.0"
  }
 },
 "nbformat": 4,
 "nbformat_minor": 5
}
